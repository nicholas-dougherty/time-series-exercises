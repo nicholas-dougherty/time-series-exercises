{
 "cells": [
  {
   "cell_type": "code",
   "execution_count": 8,
   "id": "02be81c3-6e6f-4bfb-8361-e30cdb72657b",
   "metadata": {},
   "outputs": [],
   "source": [
    "import numpy as np\n",
    "import pandas as pd\n",
    "import matplotlib.pyplot as plt\n",
    "import seaborn as sns\n",
    "import statsmodels.api as sm \n",
    "\n",
    "# datetime utilities\n",
    "from datetime import timedelta, datetime\n",
    "\n",
    "from sklearn.model_selection import TimeSeriesSplit\n",
    "\n",
    "import warnings\n",
    "warnings.filterwarnings(\"ignore\")\n",
    "\n",
    "import acquire as get\n",
    "import prepare as prep"
   ]
  },
  {
   "cell_type": "markdown",
   "id": "6ba66f4a-eafe-4abe-8fa0-ad96e4fe6730",
   "metadata": {},
   "source": [
    "Do your work for this exercise in a notebook named explore. Use the techniques in the lesson to explore the store item demand dataset and the opsd dataset.\n",
    "\n",
    "For the store item demand data, you will need to choose a method of aggregating such that each observation is a unique date. For both datasets you should choose a method of splitting your data and only explore the training split."
   ]
  },
  {
   "cell_type": "code",
   "execution_count": 2,
   "id": "65515adc-ef82-4b01-8272-f498542ae998",
   "metadata": {},
   "outputs": [
    {
     "name": "stdout",
     "output_type": "stream",
     "text": [
      "Using cached CSV\n"
     ]
    }
   ],
   "source": [
    "df = prep.prepare_store_data()"
   ]
  },
  {
   "cell_type": "code",
   "execution_count": 3,
   "id": "2036cab4-69bf-4eb1-a451-f83dca782e32",
   "metadata": {},
   "outputs": [
    {
     "data": {
      "text/html": [
       "<div><div id=3e5ccc55-62a7-4f78-99b8-56266dc62aa6 style=\"display:none; background-color:#9D6CFF; color:white; width:200px; height:30px; padding-left:5px; border-radius:4px; flex-direction:row; justify-content:space-around; align-items:center;\" onmouseover=\"this.style.backgroundColor='#BA9BF8'\" onmouseout=\"this.style.backgroundColor='#9D6CFF'\" onclick=\"window.commands?.execute('create-mitosheet-from-dataframe-output');\">See Full Dataframe in Mito</div> <script> if (window.commands.hasCommand('create-mitosheet-from-dataframe-output')) document.getElementById('3e5ccc55-62a7-4f78-99b8-56266dc62aa6').style.display = 'flex' </script> <table border=\"1\" class=\"dataframe\">\n",
       "  <thead>\n",
       "    <tr style=\"text-align: right;\">\n",
       "      <th></th>\n",
       "      <th>sale_id</th>\n",
       "      <th>store_id</th>\n",
       "      <th>item_id</th>\n",
       "      <th>item_brand</th>\n",
       "      <th>item_name</th>\n",
       "      <th>item_price</th>\n",
       "      <th>sale_amount</th>\n",
       "      <th>store_address</th>\n",
       "      <th>store_city</th>\n",
       "      <th>store_state</th>\n",
       "      <th>store_zipcode</th>\n",
       "      <th>item_upc12</th>\n",
       "      <th>item_upc14</th>\n",
       "      <th>month</th>\n",
       "      <th>day_of_week</th>\n",
       "      <th>sales_total</th>\n",
       "    </tr>\n",
       "    <tr>\n",
       "      <th>sale_date</th>\n",
       "      <th></th>\n",
       "      <th></th>\n",
       "      <th></th>\n",
       "      <th></th>\n",
       "      <th></th>\n",
       "      <th></th>\n",
       "      <th></th>\n",
       "      <th></th>\n",
       "      <th></th>\n",
       "      <th></th>\n",
       "      <th></th>\n",
       "      <th></th>\n",
       "      <th></th>\n",
       "      <th></th>\n",
       "      <th></th>\n",
       "      <th></th>\n",
       "    </tr>\n",
       "  </thead>\n",
       "  <tbody>\n",
       "    <tr>\n",
       "      <th>2013-01-01 00:00:00+00:00</th>\n",
       "      <td>1</td>\n",
       "      <td>1</td>\n",
       "      <td>1</td>\n",
       "      <td>Riceland</td>\n",
       "      <td>Riceland American Jazmine Rice</td>\n",
       "      <td>0.84</td>\n",
       "      <td>13.0</td>\n",
       "      <td>12125 Alamo Ranch Pkwy</td>\n",
       "      <td>San Antonio</td>\n",
       "      <td>TX</td>\n",
       "      <td>78253</td>\n",
       "      <td>35200264013</td>\n",
       "      <td>35200264013</td>\n",
       "      <td>January</td>\n",
       "      <td>Tuesday</td>\n",
       "      <td>10.92</td>\n",
       "    </tr>\n",
       "    <tr>\n",
       "      <th>2013-01-01 00:00:00+00:00</th>\n",
       "      <td>211817</td>\n",
       "      <td>7</td>\n",
       "      <td>12</td>\n",
       "      <td>Mueller</td>\n",
       "      <td>Mueller Sport Care Basic Support Level Medium Elastic Knee Support</td>\n",
       "      <td>8.40</td>\n",
       "      <td>26.0</td>\n",
       "      <td>12018 Perrin Beitel Rd</td>\n",
       "      <td>San Antonio</td>\n",
       "      <td>TX</td>\n",
       "      <td>78217</td>\n",
       "      <td>74676640211</td>\n",
       "      <td>74676640211</td>\n",
       "      <td>January</td>\n",
       "      <td>Tuesday</td>\n",
       "      <td>218.40</td>\n",
       "    </tr>\n",
       "    <tr>\n",
       "      <th>2013-01-01 00:00:00+00:00</th>\n",
       "      <td>832657</td>\n",
       "      <td>7</td>\n",
       "      <td>46</td>\n",
       "      <td>Mama Marys</td>\n",
       "      <td>Pizza Sauce</td>\n",
       "      <td>4.65</td>\n",
       "      <td>27.0</td>\n",
       "      <td>12018 Perrin Beitel Rd</td>\n",
       "      <td>San Antonio</td>\n",
       "      <td>TX</td>\n",
       "      <td>78217</td>\n",
       "      <td>35457770664</td>\n",
       "      <td>35457770664</td>\n",
       "      <td>January</td>\n",
       "      <td>Tuesday</td>\n",
       "      <td>125.55</td>\n",
       "    </tr>\n",
       "    <tr>\n",
       "      <th>2013-01-01 00:00:00+00:00</th>\n",
       "      <td>213643</td>\n",
       "      <td>8</td>\n",
       "      <td>12</td>\n",
       "      <td>Mueller</td>\n",
       "      <td>Mueller Sport Care Basic Support Level Medium Elastic Knee Support</td>\n",
       "      <td>8.40</td>\n",
       "      <td>54.0</td>\n",
       "      <td>15000 San Pedro Ave</td>\n",
       "      <td>San Antonio</td>\n",
       "      <td>TX</td>\n",
       "      <td>78232</td>\n",
       "      <td>74676640211</td>\n",
       "      <td>74676640211</td>\n",
       "      <td>January</td>\n",
       "      <td>Tuesday</td>\n",
       "      <td>453.60</td>\n",
       "    </tr>\n",
       "    <tr>\n",
       "      <th>2013-01-01 00:00:00+00:00</th>\n",
       "      <td>215469</td>\n",
       "      <td>9</td>\n",
       "      <td>12</td>\n",
       "      <td>Mueller</td>\n",
       "      <td>Mueller Sport Care Basic Support Level Medium Elastic Knee Support</td>\n",
       "      <td>8.40</td>\n",
       "      <td>35.0</td>\n",
       "      <td>735 SW Military Dr</td>\n",
       "      <td>San Antonio</td>\n",
       "      <td>TX</td>\n",
       "      <td>78221</td>\n",
       "      <td>74676640211</td>\n",
       "      <td>74676640211</td>\n",
       "      <td>January</td>\n",
       "      <td>Tuesday</td>\n",
       "      <td>294.00</td>\n",
       "    </tr>\n",
       "    <tr>\n",
       "      <th>...</th>\n",
       "      <td>...</td>\n",
       "      <td>...</td>\n",
       "      <td>...</td>\n",
       "      <td>...</td>\n",
       "      <td>...</td>\n",
       "      <td>...</td>\n",
       "      <td>...</td>\n",
       "      <td>...</td>\n",
       "      <td>...</td>\n",
       "      <td>...</td>\n",
       "      <td>...</td>\n",
       "      <td>...</td>\n",
       "      <td>...</td>\n",
       "      <td>...</td>\n",
       "      <td>...</td>\n",
       "      <td>...</td>\n",
       "    </tr>\n",
       "    <tr>\n",
       "      <th>2017-12-31 00:00:00+00:00</th>\n",
       "      <td>619014</td>\n",
       "      <td>9</td>\n",
       "      <td>34</td>\n",
       "      <td>Halls</td>\n",
       "      <td>Halls Menthol Cough Suppresant/oral Anesthetic Drops Honey-lemon - 30 Ct</td>\n",
       "      <td>4.17</td>\n",
       "      <td>21.0</td>\n",
       "      <td>735 SW Military Dr</td>\n",
       "      <td>San Antonio</td>\n",
       "      <td>TX</td>\n",
       "      <td>78221</td>\n",
       "      <td>312546628694</td>\n",
       "      <td>312546628694</td>\n",
       "      <td>December</td>\n",
       "      <td>Sunday</td>\n",
       "      <td>87.57</td>\n",
       "    </tr>\n",
       "    <tr>\n",
       "      <th>2017-12-31 00:00:00+00:00</th>\n",
       "      <td>620840</td>\n",
       "      <td>10</td>\n",
       "      <td>34</td>\n",
       "      <td>Halls</td>\n",
       "      <td>Halls Menthol Cough Suppresant/oral Anesthetic Drops Honey-lemon - 30 Ct</td>\n",
       "      <td>4.17</td>\n",
       "      <td>32.0</td>\n",
       "      <td>8503 NW Military Hwy</td>\n",
       "      <td>San Antonio</td>\n",
       "      <td>TX</td>\n",
       "      <td>78231</td>\n",
       "      <td>312546628694</td>\n",
       "      <td>312546628694</td>\n",
       "      <td>December</td>\n",
       "      <td>Sunday</td>\n",
       "      <td>133.44</td>\n",
       "    </tr>\n",
       "    <tr>\n",
       "      <th>2017-12-31 00:00:00+00:00</th>\n",
       "      <td>622666</td>\n",
       "      <td>1</td>\n",
       "      <td>35</td>\n",
       "      <td>Natures Way</td>\n",
       "      <td>Natures Way Forskohlii - 60 Ct</td>\n",
       "      <td>5.19</td>\n",
       "      <td>55.0</td>\n",
       "      <td>12125 Alamo Ranch Pkwy</td>\n",
       "      <td>San Antonio</td>\n",
       "      <td>TX</td>\n",
       "      <td>78253</td>\n",
       "      <td>33674100066</td>\n",
       "      <td>33674100066</td>\n",
       "      <td>December</td>\n",
       "      <td>Sunday</td>\n",
       "      <td>285.45</td>\n",
       "    </tr>\n",
       "    <tr>\n",
       "      <th>2017-12-31 00:00:00+00:00</th>\n",
       "      <td>598928</td>\n",
       "      <td>8</td>\n",
       "      <td>33</td>\n",
       "      <td>The First Years</td>\n",
       "      <td>Tomy The First Years Gumdrop Orthodontic Pacifiers 6m+ - 2ct</td>\n",
       "      <td>6.52</td>\n",
       "      <td>100.0</td>\n",
       "      <td>15000 San Pedro Ave</td>\n",
       "      <td>San Antonio</td>\n",
       "      <td>TX</td>\n",
       "      <td>78232</td>\n",
       "      <td>71463060078</td>\n",
       "      <td>71463060078</td>\n",
       "      <td>December</td>\n",
       "      <td>Sunday</td>\n",
       "      <td>652.00</td>\n",
       "    </tr>\n",
       "    <tr>\n",
       "      <th>2017-12-31 00:00:00+00:00</th>\n",
       "      <td>913000</td>\n",
       "      <td>10</td>\n",
       "      <td>50</td>\n",
       "      <td>Choice</td>\n",
       "      <td>Choice Organic Teas Black Tea Classic Black - 16 Ct</td>\n",
       "      <td>5.20</td>\n",
       "      <td>82.0</td>\n",
       "      <td>8503 NW Military Hwy</td>\n",
       "      <td>San Antonio</td>\n",
       "      <td>TX</td>\n",
       "      <td>78231</td>\n",
       "      <td>47445919221</td>\n",
       "      <td>47445919221</td>\n",
       "      <td>December</td>\n",
       "      <td>Sunday</td>\n",
       "      <td>426.40</td>\n",
       "    </tr>\n",
       "  </tbody>\n",
       "</table></div>"
      ],
      "text/plain": [
       "                           sale_id  store_id  item_id       item_brand  \\\n",
       "sale_date                                                                \n",
       "2013-01-01 00:00:00+00:00        1         1        1         Riceland   \n",
       "2013-01-01 00:00:00+00:00   211817         7       12          Mueller   \n",
       "2013-01-01 00:00:00+00:00   832657         7       46       Mama Marys   \n",
       "2013-01-01 00:00:00+00:00   213643         8       12          Mueller   \n",
       "2013-01-01 00:00:00+00:00   215469         9       12          Mueller   \n",
       "...                            ...       ...      ...              ...   \n",
       "2017-12-31 00:00:00+00:00   619014         9       34            Halls   \n",
       "2017-12-31 00:00:00+00:00   620840        10       34            Halls   \n",
       "2017-12-31 00:00:00+00:00   622666         1       35      Natures Way   \n",
       "2017-12-31 00:00:00+00:00   598928         8       33  The First Years   \n",
       "2017-12-31 00:00:00+00:00   913000        10       50           Choice   \n",
       "\n",
       "                                                                   item_name  \\\n",
       "sale_date                                                                      \n",
       "2013-01-01 00:00:00+00:00                     Riceland American Jazmine Rice   \n",
       "2013-01-01 00:00:00+00:00  Mueller Sport Care Basic Support Level Medium ...   \n",
       "2013-01-01 00:00:00+00:00                                        Pizza Sauce   \n",
       "2013-01-01 00:00:00+00:00  Mueller Sport Care Basic Support Level Medium ...   \n",
       "2013-01-01 00:00:00+00:00  Mueller Sport Care Basic Support Level Medium ...   \n",
       "...                                                                      ...   \n",
       "2017-12-31 00:00:00+00:00  Halls Menthol Cough Suppresant/oral Anesthetic...   \n",
       "2017-12-31 00:00:00+00:00  Halls Menthol Cough Suppresant/oral Anesthetic...   \n",
       "2017-12-31 00:00:00+00:00                     Natures Way Forskohlii - 60 Ct   \n",
       "2017-12-31 00:00:00+00:00  Tomy The First Years Gumdrop Orthodontic Pacif...   \n",
       "2017-12-31 00:00:00+00:00  Choice Organic Teas Black Tea Classic Black - ...   \n",
       "\n",
       "                           item_price  sale_amount           store_address  \\\n",
       "sale_date                                                                    \n",
       "2013-01-01 00:00:00+00:00        0.84         13.0  12125 Alamo Ranch Pkwy   \n",
       "2013-01-01 00:00:00+00:00        8.40         26.0  12018 Perrin Beitel Rd   \n",
       "2013-01-01 00:00:00+00:00        4.65         27.0  12018 Perrin Beitel Rd   \n",
       "2013-01-01 00:00:00+00:00        8.40         54.0     15000 San Pedro Ave   \n",
       "2013-01-01 00:00:00+00:00        8.40         35.0      735 SW Military Dr   \n",
       "...                               ...          ...                     ...   \n",
       "2017-12-31 00:00:00+00:00        4.17         21.0      735 SW Military Dr   \n",
       "2017-12-31 00:00:00+00:00        4.17         32.0    8503 NW Military Hwy   \n",
       "2017-12-31 00:00:00+00:00        5.19         55.0  12125 Alamo Ranch Pkwy   \n",
       "2017-12-31 00:00:00+00:00        6.52        100.0     15000 San Pedro Ave   \n",
       "2017-12-31 00:00:00+00:00        5.20         82.0    8503 NW Military Hwy   \n",
       "\n",
       "                            store_city store_state  store_zipcode  \\\n",
       "sale_date                                                           \n",
       "2013-01-01 00:00:00+00:00  San Antonio          TX          78253   \n",
       "2013-01-01 00:00:00+00:00  San Antonio          TX          78217   \n",
       "2013-01-01 00:00:00+00:00  San Antonio          TX          78217   \n",
       "2013-01-01 00:00:00+00:00  San Antonio          TX          78232   \n",
       "2013-01-01 00:00:00+00:00  San Antonio          TX          78221   \n",
       "...                                ...         ...            ...   \n",
       "2017-12-31 00:00:00+00:00  San Antonio          TX          78221   \n",
       "2017-12-31 00:00:00+00:00  San Antonio          TX          78231   \n",
       "2017-12-31 00:00:00+00:00  San Antonio          TX          78253   \n",
       "2017-12-31 00:00:00+00:00  San Antonio          TX          78232   \n",
       "2017-12-31 00:00:00+00:00  San Antonio          TX          78231   \n",
       "\n",
       "                             item_upc12    item_upc14     month day_of_week  \\\n",
       "sale_date                                                                     \n",
       "2013-01-01 00:00:00+00:00   35200264013   35200264013   January     Tuesday   \n",
       "2013-01-01 00:00:00+00:00   74676640211   74676640211   January     Tuesday   \n",
       "2013-01-01 00:00:00+00:00   35457770664   35457770664   January     Tuesday   \n",
       "2013-01-01 00:00:00+00:00   74676640211   74676640211   January     Tuesday   \n",
       "2013-01-01 00:00:00+00:00   74676640211   74676640211   January     Tuesday   \n",
       "...                                 ...           ...       ...         ...   \n",
       "2017-12-31 00:00:00+00:00  312546628694  312546628694  December      Sunday   \n",
       "2017-12-31 00:00:00+00:00  312546628694  312546628694  December      Sunday   \n",
       "2017-12-31 00:00:00+00:00   33674100066   33674100066  December      Sunday   \n",
       "2017-12-31 00:00:00+00:00   71463060078   71463060078  December      Sunday   \n",
       "2017-12-31 00:00:00+00:00   47445919221   47445919221  December      Sunday   \n",
       "\n",
       "                           sales_total  \n",
       "sale_date                               \n",
       "2013-01-01 00:00:00+00:00        10.92  \n",
       "2013-01-01 00:00:00+00:00       218.40  \n",
       "2013-01-01 00:00:00+00:00       125.55  \n",
       "2013-01-01 00:00:00+00:00       453.60  \n",
       "2013-01-01 00:00:00+00:00       294.00  \n",
       "...                                ...  \n",
       "2017-12-31 00:00:00+00:00        87.57  \n",
       "2017-12-31 00:00:00+00:00       133.44  \n",
       "2017-12-31 00:00:00+00:00       285.45  \n",
       "2017-12-31 00:00:00+00:00       652.00  \n",
       "2017-12-31 00:00:00+00:00       426.40  \n",
       "\n",
       "[913000 rows x 16 columns]"
      ]
     },
     "execution_count": 3,
     "metadata": {},
     "output_type": "execute_result"
    }
   ],
   "source": []
  },
  {
   "cell_type": "code",
   "execution_count": 4,
   "id": "88c5dd5f-e4bc-40c5-92a8-beeec54cfc98",
   "metadata": {},
   "outputs": [],
   "source": [
    "opsd = prep.prepare_opsd_data()"
   ]
  },
  {
   "cell_type": "code",
   "execution_count": 5,
   "id": "e9977527-25ab-4e18-af9b-c7473025d26d",
   "metadata": {},
   "outputs": [
    {
     "data": {
      "text/html": [
       "<div><div id=014a2087-8403-4eba-98fe-58e6186e7d49 style=\"display:none; background-color:#9D6CFF; color:white; width:200px; height:30px; padding-left:5px; border-radius:4px; flex-direction:row; justify-content:space-around; align-items:center;\" onmouseover=\"this.style.backgroundColor='#BA9BF8'\" onmouseout=\"this.style.backgroundColor='#9D6CFF'\" onclick=\"window.commands?.execute('create-mitosheet-from-dataframe-output');\">See Full Dataframe in Mito</div> <script> if (window.commands.hasCommand('create-mitosheet-from-dataframe-output')) document.getElementById('014a2087-8403-4eba-98fe-58e6186e7d49').style.display = 'flex' </script> <table border=\"1\" class=\"dataframe\">\n",
       "  <thead>\n",
       "    <tr style=\"text-align: right;\">\n",
       "      <th></th>\n",
       "      <th>Consumption</th>\n",
       "      <th>Wind</th>\n",
       "      <th>Solar</th>\n",
       "      <th>Wind+Solar</th>\n",
       "      <th>month</th>\n",
       "      <th>year</th>\n",
       "    </tr>\n",
       "    <tr>\n",
       "      <th>Date</th>\n",
       "      <th></th>\n",
       "      <th></th>\n",
       "      <th></th>\n",
       "      <th></th>\n",
       "      <th></th>\n",
       "      <th></th>\n",
       "    </tr>\n",
       "  </thead>\n",
       "  <tbody>\n",
       "    <tr>\n",
       "      <th>2006-01-01</th>\n",
       "      <td>1069.18400</td>\n",
       "      <td>0</td>\n",
       "      <td>0</td>\n",
       "      <td>0</td>\n",
       "      <td>1</td>\n",
       "      <td>2006</td>\n",
       "    </tr>\n",
       "    <tr>\n",
       "      <th>2006-01-02</th>\n",
       "      <td>1380.52100</td>\n",
       "      <td>0</td>\n",
       "      <td>0</td>\n",
       "      <td>0</td>\n",
       "      <td>1</td>\n",
       "      <td>2006</td>\n",
       "    </tr>\n",
       "    <tr>\n",
       "      <th>2006-01-03</th>\n",
       "      <td>1442.53300</td>\n",
       "      <td>0</td>\n",
       "      <td>0</td>\n",
       "      <td>0</td>\n",
       "      <td>1</td>\n",
       "      <td>2006</td>\n",
       "    </tr>\n",
       "    <tr>\n",
       "      <th>2006-01-04</th>\n",
       "      <td>1457.21700</td>\n",
       "      <td>0</td>\n",
       "      <td>0</td>\n",
       "      <td>0</td>\n",
       "      <td>1</td>\n",
       "      <td>2006</td>\n",
       "    </tr>\n",
       "    <tr>\n",
       "      <th>2006-01-05</th>\n",
       "      <td>1477.13100</td>\n",
       "      <td>0</td>\n",
       "      <td>0</td>\n",
       "      <td>0</td>\n",
       "      <td>1</td>\n",
       "      <td>2006</td>\n",
       "    </tr>\n",
       "    <tr>\n",
       "      <th>...</th>\n",
       "      <td>...</td>\n",
       "      <td>...</td>\n",
       "      <td>...</td>\n",
       "      <td>...</td>\n",
       "      <td>...</td>\n",
       "      <td>...</td>\n",
       "    </tr>\n",
       "    <tr>\n",
       "      <th>2017-12-27</th>\n",
       "      <td>1263.94091</td>\n",
       "      <td>394.507</td>\n",
       "      <td>16.53</td>\n",
       "      <td>411.037</td>\n",
       "      <td>12</td>\n",
       "      <td>2017</td>\n",
       "    </tr>\n",
       "    <tr>\n",
       "      <th>2017-12-28</th>\n",
       "      <td>1299.86398</td>\n",
       "      <td>506.424</td>\n",
       "      <td>14.162</td>\n",
       "      <td>520.586</td>\n",
       "      <td>12</td>\n",
       "      <td>2017</td>\n",
       "    </tr>\n",
       "    <tr>\n",
       "      <th>2017-12-29</th>\n",
       "      <td>1295.08753</td>\n",
       "      <td>584.277</td>\n",
       "      <td>29.854</td>\n",
       "      <td>614.131</td>\n",
       "      <td>12</td>\n",
       "      <td>2017</td>\n",
       "    </tr>\n",
       "    <tr>\n",
       "      <th>2017-12-30</th>\n",
       "      <td>1215.44897</td>\n",
       "      <td>721.247</td>\n",
       "      <td>7.467</td>\n",
       "      <td>728.714</td>\n",
       "      <td>12</td>\n",
       "      <td>2017</td>\n",
       "    </tr>\n",
       "    <tr>\n",
       "      <th>2017-12-31</th>\n",
       "      <td>1107.11488</td>\n",
       "      <td>721.176</td>\n",
       "      <td>19.98</td>\n",
       "      <td>741.156</td>\n",
       "      <td>12</td>\n",
       "      <td>2017</td>\n",
       "    </tr>\n",
       "  </tbody>\n",
       "</table></div>"
      ],
      "text/plain": [
       "            Consumption     Wind   Solar Wind+Solar  month  year\n",
       "Date                                                            \n",
       "2006-01-01   1069.18400        0       0          0      1  2006\n",
       "2006-01-02   1380.52100        0       0          0      1  2006\n",
       "2006-01-03   1442.53300        0       0          0      1  2006\n",
       "2006-01-04   1457.21700        0       0          0      1  2006\n",
       "2006-01-05   1477.13100        0       0          0      1  2006\n",
       "...                 ...      ...     ...        ...    ...   ...\n",
       "2017-12-27   1263.94091  394.507   16.53    411.037     12  2017\n",
       "2017-12-28   1299.86398  506.424  14.162    520.586     12  2017\n",
       "2017-12-29   1295.08753  584.277  29.854    614.131     12  2017\n",
       "2017-12-30   1215.44897  721.247   7.467    728.714     12  2017\n",
       "2017-12-31   1107.11488  721.176   19.98    741.156     12  2017\n",
       "\n",
       "[4383 rows x 6 columns]"
      ]
     },
     "execution_count": 5,
     "metadata": {},
     "output_type": "execute_result"
    }
   ],
   "source": [
    "opsd"
   ]
  },
  {
   "cell_type": "code",
   "execution_count": 6,
   "id": "aeaa8759-696f-4769-a474-42f55969db85",
   "metadata": {},
   "outputs": [
    {
     "data": {
      "text/plain": [
       "[<matplotlib.lines.Line2D at 0x7fe518fc8bb0>]"
      ]
     },
     "execution_count": 6,
     "metadata": {},
     "output_type": "execute_result"
    },
    {
     "data": {
      "image/png": "[encoded data removed]",
      "text/plain": [
       "<Figure size 432x288 with 1 Axes>"
      ]
     },
     "metadata": {
      "needs_background": "light"
     },
     "output_type": "display_data"
    }
   ],
   "source": [
    "# I'll start by using a percentage-based split of the store df. \n",
    "\n",
    "train_size = .70\n",
    "n = df.shape[0]\n",
    "test_start_index = round(train_size * n)\n",
    "\n",
    "train = df[:test_start_index] # everything up to (not including) the test_start_index\n",
    "test = df[test_start_index:] # everything from the test_start_index to the end\n",
    "\n",
    "plt.plot(train.index, train.sale_amount)"
   ]
  },
  {
   "cell_type": "code",
   "execution_count": 7,
   "id": "5ea124a6-1112-4b19-981b-8398156d401e",
   "metadata": {},
   "outputs": [
    {
     "data": {
      "text/plain": [
       "[<matplotlib.lines.Line2D at 0x7fe545a08c10>]"
      ]
     },
     "execution_count": 7,
     "metadata": {},
     "output_type": "execute_result"
    },
    {
     "data": {
      "image/png": "[encoded data removed]",
      "text/plain": [
       "<Figure size 432x288 with 1 Axes>"
      ]
     },
     "metadata": {
      "needs_background": "light"
     },
     "output_type": "display_data"
    }
   ],
   "source": [
    "plt.plot(test.index, test.sale_amount)"
   ]
  },
  {
   "cell_type": "code",
   "execution_count": 11,
   "id": "ea5b434a-d2f9-42aa-9f64-4207e684d5ea",
   "metadata": {},
   "outputs": [
    {
     "data": {
      "text/plain": [
       "DatetimeIndex(['2006-01-01', '2006-01-02', '2006-01-03', '2006-01-04',\n",
       "               '2006-01-05', '2006-01-06', '2006-01-07', '2006-01-08',\n",
       "               '2006-01-09', '2006-01-10',\n",
       "               ...\n",
       "               '2017-12-22', '2017-12-23', '2017-12-24', '2017-12-25',\n",
       "               '2017-12-26', '2017-12-27', '2017-12-28', '2017-12-29',\n",
       "               '2017-12-30', '2017-12-31'],\n",
       "              dtype='datetime64[ns]', name='Date', length=4383, freq=None)"
      ]
     },
     "execution_count": 11,
     "metadata": {},
     "output_type": "execute_result"
    }
   ],
   "source": [
    "opsd.index"
   ]
  },
  {
   "cell_type": "code",
   "execution_count": 12,
   "id": "f2251207-2115-4cf5-a2c4-4386ea5ba11b",
   "metadata": {},
   "outputs": [
    {
     "data": {
      "text/plain": [
       "Index(['Consumption', 'Wind', 'Solar', 'Wind+Solar', 'month', 'year'], dtype='object')"
      ]
     },
     "execution_count": 12,
     "metadata": {},
     "output_type": "execute_result"
    }
   ],
   "source": [
    "opsd.columns"
   ]
  },
  {
   "cell_type": "code",
   "execution_count": 13,
   "id": "834167c6-7724-49d7-9c89-5270fdda1631",
   "metadata": {},
   "outputs": [
    {
     "data": {
      "text/plain": [
       "[<matplotlib.lines.Line2D at 0x7fe51e8dbf40>]"
      ]
     },
     "execution_count": 13,
     "metadata": {},
     "output_type": "execute_result"
    },
    {
     "data": {
      "image/png": "[encoded data removed]",
      "text/plain": [
       "<Figure size 432x288 with 1 Axes>"
      ]
     },
     "metadata": {
      "needs_background": "light"
     },
     "output_type": "display_data"
    }
   ],
   "source": [
    "# I will implement a 'Human-Based' approach for OPSD\n",
    "train_op = opsd[:'2013'] # includes 2013\n",
    "test_op = opsd['2014':] # 2014 'til the end\n",
    "\n",
    "plt.plot(train_op.index, train_op.Consumption)\n"
   ]
  },
  {
   "cell_type": "code",
   "execution_count": 14,
   "id": "9b1bf065-79c9-414e-b552-b5807e723325",
   "metadata": {},
   "outputs": [
    {
     "data": {
      "text/plain": [
       "[<matplotlib.lines.Line2D at 0x7fe51ec67bb0>]"
      ]
     },
     "execution_count": 14,
     "metadata": {},
     "output_type": "execute_result"
    },
    {
     "data": {
      "image/png": "[encoded data removed]",
      "text/plain": [
       "<Figure size 432x288 with 1 Axes>"
      ]
     },
     "metadata": {
      "needs_background": "light"
     },
     "output_type": "display_data"
    }
   ],
   "source": [
    "plt.plot(test_op.index, test_op.Consumption)"
   ]
  },
  {
   "cell_type": "code",
   "execution_count": 16,
   "id": "04c66c3a-6f32-4427-a4c5-da7cb74039bd",
   "metadata": {},
   "outputs": [
    {
     "data": {
      "text/plain": [
       "sale_date\n",
       "2013-01-01 00:00:00+00:00     10.92\n",
       "2013-01-01 00:00:00+00:00    218.40\n",
       "2013-01-01 00:00:00+00:00    125.55\n",
       "2013-01-01 00:00:00+00:00    453.60\n",
       "2013-01-01 00:00:00+00:00    294.00\n",
       "Name: sales_total, dtype: float64"
      ]
     },
     "execution_count": 16,
     "metadata": {},
     "output_type": "execute_result"
    }
   ],
   "source": [
    "# Groovy, it worked just fine. Now let's explore the Train set for each. \n",
    "# i'll establish what my target (dependent variable) is for each. \n",
    "# Consumption for opsd and sales_total for the sales df are viable targets. \n",
    "\n",
    "y1 = train.sales_total\n",
    "y1.head()"
   ]
  },
  {
   "cell_type": "code",
   "execution_count": 17,
   "id": "10da4cb1-146b-4bc9-9102-ca7618a597b9",
   "metadata": {},
   "outputs": [
    {
     "data": {
      "text/plain": [
       "Date\n",
       "2006-01-01    1069.184\n",
       "2006-01-02    1380.521\n",
       "2006-01-03    1442.533\n",
       "2006-01-04    1457.217\n",
       "2006-01-05    1477.131\n",
       "Name: Consumption, dtype: float64"
      ]
     },
     "execution_count": 17,
     "metadata": {},
     "output_type": "execute_result"
    }
   ],
   "source": [
    "# I wonder if there would be some value behind consolidating by date with the total sales amount of all items, irrespective of individual sales amounts or products. \n",
    "y2 = train_op.Consumption\n",
    "y2.head()"
   ]
  },
  {
   "cell_type": "code",
   "execution_count": null,
   "id": "c5849edd-d6c2-4839-b3d5-173120ca915f",
   "metadata": {},
   "outputs": [],
   "source": []
  }
 ],
 "metadata": {
  "kernelspec": {
   "display_name": "Python 3 (ipykernel)",
   "language": "python",
   "name": "python3"
  },
  "language_info": {
   "codemirror_mode": {
    "name": "ipython",
    "version": 3
   },
   "file_extension": ".py",
   "mimetype": "text/x-python",
   "name": "python",
   "nbconvert_exporter": "python",
   "pygments_lexer": "ipython3",
   "version": "3.9.7"
  }
 },
 "nbformat": 4,
 "nbformat_minor": 5
}
