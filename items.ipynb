{
 "cells": [
  {
   "cell_type": "markdown",
   "id": "368efe27-4713-41b1-9845-5a58a684a0c6",
   "metadata": {},
   "source": [
    "The end result of this exercise should be a file named acquire.py.\n",
    "\n",
    "1. Using the code from the lesson as a guide and the REST API from https://python.zgulde.net/api/v1/items as we did in the lesson, create a dataframe named items that has all of the data for items.\n",
    "\n",
    "2. Do the same thing, but for stores (https://python.zgulde.net/api/v1/stores)\n",
    "\n",
    "3. Extract the data for sales (https://python.zgulde.net/api/v1/sales). There are a lot of pages of data here, so your code will need to be a little more complex. Your code should continue fetching data from the next page until all of the data is extracted.\n",
    "\n",
    "4. Save the data in your files to local csv files so that it will be faster to access in the future.\n",
    "\n",
    "5. Combine the data from your three separate dataframes into one large dataframe.\n",
    "\n",
    "6. Acquire the Open Power Systems Data for Germany, which has been rapidly expanding its renewable energy production in recent years. The data set includes country-wide totals of electricity consumption, wind power production, and solar power production for 2006-2017. You can get the data here: https://raw.githubusercontent.com/jenfly/opsd/master/opsd_germany_daily.csv\n",
    "\n",
    "7. Make sure all the work that you have done above is reproducible. That is, you should put the code above into separate functions in the acquire.py file and be able to re-run the functions and get the same data."
   ]
  },
  {
   "cell_type": "code",
   "execution_count": 25,
   "id": "a938653f-bda1-4f2a-b336-833cb922077d",
   "metadata": {},
   "outputs": [],
   "source": [
    "import pandas as pd\n",
    "import requests\n",
    "import os"
   ]
  },
  {
   "cell_type": "code",
   "execution_count": 3,
   "id": "727b1165-2a5a-4c93-a319-2fb913c77531",
   "metadata": {},
   "outputs": [
    {
     "data": {
      "text/plain": [
       "<Response [200]>"
      ]
     },
     "execution_count": 3,
     "metadata": {},
     "output_type": "execute_result"
    }
   ],
   "source": [
    "domain = 'https://python.zgulde.net'\n",
    "endpoint = '/api/v1/items'\n",
    "items = []\n",
    "\n",
    "url = domain + endpoint\n",
    "\n",
    "response = requests.get(url)\n",
    "response"
   ]
  },
  {
   "cell_type": "code",
   "execution_count": 4,
   "id": "606b2bb9-5b2a-452e-b078-364c93001e92",
   "metadata": {},
   "outputs": [],
   "source": [
    "data = response.json()"
   ]
  },
  {
   "cell_type": "code",
   "execution_count": 5,
   "id": "e320d7f1-1c75-4ab3-a58f-2b697949a9e0",
   "metadata": {},
   "outputs": [
    {
     "data": {
      "text/plain": [
       "{'payload': {'items': [{'item_brand': 'Riceland',\n",
       "    'item_id': 1,\n",
       "    'item_name': 'Riceland American Jazmine Rice',\n",
       "    'item_price': 0.84,\n",
       "    'item_upc12': '35200264013',\n",
       "    'item_upc14': '35200264013'},\n",
       "   {'item_brand': 'Caress',\n",
       "    'item_id': 2,\n",
       "    'item_name': 'Caress Velvet Bliss Ultra Silkening Beauty Bar - 6 Ct',\n",
       "    'item_price': 6.44,\n",
       "    'item_upc12': '11111065925',\n",
       "    'item_upc14': '11111065925'},\n",
       "   {'item_brand': 'Earths Best',\n",
       "    'item_id': 3,\n",
       "    'item_name': 'Earths Best Organic Fruit Yogurt Smoothie Mixed Berry',\n",
       "    'item_price': 2.43,\n",
       "    'item_upc12': '23923330139',\n",
       "    'item_upc14': '23923330139'},\n",
       "   {'item_brand': 'Boars Head',\n",
       "    'item_id': 4,\n",
       "    'item_name': 'Boars Head Sliced White American Cheese - 120 Ct',\n",
       "    'item_price': 3.14,\n",
       "    'item_upc12': '208528800007',\n",
       "    'item_upc14': '208528800007'},\n",
       "   {'item_brand': 'Back To Nature',\n",
       "    'item_id': 5,\n",
       "    'item_name': 'Back To Nature Gluten Free White Cheddar Rice Thin Crackers',\n",
       "    'item_price': 2.61,\n",
       "    'item_upc12': '759283100036',\n",
       "    'item_upc14': '759283100036'},\n",
       "   {'item_brand': 'Sally Hansen',\n",
       "    'item_id': 6,\n",
       "    'item_name': 'Sally Hansen Nail Color Magnetic 903 Silver Elements',\n",
       "    'item_price': 6.93,\n",
       "    'item_upc12': '74170388732',\n",
       "    'item_upc14': '74170388732'},\n",
       "   {'item_brand': 'Twinings Of London',\n",
       "    'item_id': 7,\n",
       "    'item_name': 'Twinings Of London Classics Lady Grey Tea - 20 Ct',\n",
       "    'item_price': 9.64,\n",
       "    'item_upc12': '70177154004',\n",
       "    'item_upc14': '70177154004'},\n",
       "   {'item_brand': 'Lea & Perrins',\n",
       "    'item_id': 8,\n",
       "    'item_name': 'Lea & Perrins Marinade In-a-bag Cracked Peppercorn',\n",
       "    'item_price': 1.68,\n",
       "    'item_upc12': '51600080015',\n",
       "    'item_upc14': '51600080015'},\n",
       "   {'item_brand': 'Van De Kamps',\n",
       "    'item_id': 9,\n",
       "    'item_name': 'Van De Kamps Fillets Beer Battered - 10 Ct',\n",
       "    'item_price': 1.79,\n",
       "    'item_upc12': '19600923015',\n",
       "    'item_upc14': '19600923015'},\n",
       "   {'item_brand': 'Ahold',\n",
       "    'item_id': 10,\n",
       "    'item_name': 'Ahold Cocoa Almonds',\n",
       "    'item_price': 3.17,\n",
       "    'item_upc12': '688267141676',\n",
       "    'item_upc14': '688267141676'},\n",
       "   {'item_brand': 'Honest Tea',\n",
       "    'item_id': 11,\n",
       "    'item_name': 'Honest Tea Peach White Tea',\n",
       "    'item_price': 3.93,\n",
       "    'item_upc12': '657622604842',\n",
       "    'item_upc14': '657622604842'},\n",
       "   {'item_brand': 'Mueller',\n",
       "    'item_id': 12,\n",
       "    'item_name': 'Mueller Sport Care Basic Support Level Medium Elastic Knee Support',\n",
       "    'item_price': 8.4,\n",
       "    'item_upc12': '74676640211',\n",
       "    'item_upc14': '74676640211'},\n",
       "   {'item_brand': 'Garnier Nutritioniste',\n",
       "    'item_id': 13,\n",
       "    'item_name': 'Garnier Nutritioniste Moisture Rescue Fresh Cleansing Foam',\n",
       "    'item_price': 6.47,\n",
       "    'item_upc12': '603084234561',\n",
       "    'item_upc14': '603084234561'},\n",
       "   {'item_brand': 'Pamprin',\n",
       "    'item_id': 14,\n",
       "    'item_name': 'Pamprin Maximum Strength Multi-symptom Menstrual Pain Relief',\n",
       "    'item_price': 7.54,\n",
       "    'item_upc12': '41167300121',\n",
       "    'item_upc14': '41167300121'},\n",
       "   {'item_brand': 'Suave',\n",
       "    'item_id': 15,\n",
       "    'item_name': 'Suave Naturals Moisturizing Body Wash Creamy Tropical Coconut',\n",
       "    'item_price': 9.11,\n",
       "    'item_upc12': '79400847201',\n",
       "    'item_upc14': '79400847201'},\n",
       "   {'item_brand': 'Burts Bees',\n",
       "    'item_id': 16,\n",
       "    'item_name': 'Burts Bees Daily Moisturizing Cream Sensitive',\n",
       "    'item_price': 5.17,\n",
       "    'item_upc12': '792850014008',\n",
       "    'item_upc14': '792850014008'},\n",
       "   {'item_brand': 'Ducal',\n",
       "    'item_id': 17,\n",
       "    'item_name': 'Ducal Refried Red Beans',\n",
       "    'item_price': 1.16,\n",
       "    'item_upc12': '88313590791',\n",
       "    'item_upc14': '88313590791'},\n",
       "   {'item_brand': 'Scotch',\n",
       "    'item_id': 18,\n",
       "    'item_name': 'Scotch Removable Clear Mounting Squares - 35 Ct',\n",
       "    'item_price': 4.39,\n",
       "    'item_upc12': '21200725340',\n",
       "    'item_upc14': '21200725340'},\n",
       "   {'item_brand': 'Careone',\n",
       "    'item_id': 19,\n",
       "    'item_name': 'Careone Family Comb Set - 8 Ct',\n",
       "    'item_price': 0.74,\n",
       "    'item_upc12': '41520035646',\n",
       "    'item_upc14': '41520035646'},\n",
       "   {'item_brand': 'Usda Produce',\n",
       "    'item_id': 20,\n",
       "    'item_name': 'Plums Black',\n",
       "    'item_price': 5.62,\n",
       "    'item_upc12': '204040000000',\n",
       "    'item_upc14': '204040000000'}],\n",
       "  'max_page': 3,\n",
       "  'next_page': '/api/v1/items?page=2',\n",
       "  'page': 1,\n",
       "  'previous_page': None},\n",
       " 'status': 'ok'}"
      ]
     },
     "execution_count": 5,
     "metadata": {},
     "output_type": "execute_result"
    }
   ],
   "source": [
    "data"
   ]
  },
  {
   "cell_type": "code",
   "execution_count": 6,
   "id": "9357ecb5-a7d6-43d0-ad84-bd1108f72a85",
   "metadata": {},
   "outputs": [],
   "source": [
    "page_n = data['payload']['max_page']"
   ]
  },
  {
   "cell_type": "code",
   "execution_count": 7,
   "id": "2501fcde-4f3a-46fc-b476-85c6d3af12a0",
   "metadata": {},
   "outputs": [
    {
     "data": {
      "text/plain": [
       "3"
      ]
     },
     "execution_count": 7,
     "metadata": {},
     "output_type": "execute_result"
    }
   ],
   "source": [
    "page_n"
   ]
  },
  {
   "cell_type": "code",
   "execution_count": 8,
   "id": "d2cf3f23-a83f-4c0b-a498-a1488db58a79",
   "metadata": {},
   "outputs": [
    {
     "data": {
      "text/plain": [
       "dict"
      ]
     },
     "execution_count": 8,
     "metadata": {},
     "output_type": "execute_result"
    }
   ],
   "source": [
    "type(data)"
   ]
  },
  {
   "cell_type": "code",
   "execution_count": 9,
   "id": "b74b70c3-6647-40ec-9397-003eb9650a8b",
   "metadata": {},
   "outputs": [
    {
     "data": {
      "text/plain": [
       "'ok'"
      ]
     },
     "execution_count": 9,
     "metadata": {},
     "output_type": "execute_result"
    }
   ],
   "source": [
    "data['status']"
   ]
  },
  {
   "cell_type": "code",
   "execution_count": 11,
   "id": "e3a849d4-50c3-41bd-9da1-dc4fcaaa0a53",
   "metadata": {},
   "outputs": [
    {
     "data": {
      "text/plain": [
       "dict_keys(['items', 'max_page', 'next_page', 'page', 'previous_page'])"
      ]
     },
     "execution_count": 11,
     "metadata": {},
     "output_type": "execute_result"
    }
   ],
   "source": [
    "data['payload'].keys()"
   ]
  },
  {
   "cell_type": "code",
   "execution_count": 14,
   "id": "8a19e3f6-8312-4ea9-bd51-cc2edac1e7bb",
   "metadata": {},
   "outputs": [],
   "source": [
    "data_df = pd.DataFrame(data['payload']['items'])"
   ]
  },
  {
   "cell_type": "code",
   "execution_count": 22,
   "id": "a8739dfc-5c67-419b-b6d0-6e18e824ed16",
   "metadata": {},
   "outputs": [
    {
     "data": {
      "text/plain": [
       "(20, 6)"
      ]
     },
     "execution_count": 22,
     "metadata": {},
     "output_type": "execute_result"
    }
   ],
   "source": [
    "data_df.shape"
   ]
  },
  {
   "cell_type": "code",
   "execution_count": 16,
   "id": "842fc7de-e4d8-48d6-8e1a-c21266b50f2e",
   "metadata": {},
   "outputs": [
    {
     "name": "stdout",
     "output_type": "stream",
     "text": [
      "next url: https://python.zgulde.net/api/v1/items?page=2\n"
     ]
    }
   ],
   "source": [
    "url = domain + data['payload']['next_page']\n",
    "print('next url:', url)"
   ]
  },
  {
   "cell_type": "code",
   "execution_count": 17,
   "id": "b7426a81-2962-4514-9210-838af2247e49",
   "metadata": {},
   "outputs": [],
   "source": [
    "response = requests.get(url)\n",
    "data = response.json()\n",
    "items.extend(data['payload']['items'])"
   ]
  },
  {
   "cell_type": "code",
   "execution_count": 18,
   "id": "d1137005-9f92-4439-bb76-8229e01e1352",
   "metadata": {},
   "outputs": [
    {
     "name": "stdout",
     "output_type": "stream",
     "text": [
      "next endpoint /api/v1/items?page=3\n",
      "next url: https://python.zgulde.net/api/v1/items?page=3\n"
     ]
    }
   ],
   "source": [
    "print('next endpoint', data['payload']['next_page'])\n",
    "url = domain + data['payload']['next_page']\n",
    "print('next url:', url)"
   ]
  },
  {
   "cell_type": "code",
   "execution_count": 23,
   "id": "f76fbcf2-5ae7-4b4d-a288-99fdabd4b26b",
   "metadata": {},
   "outputs": [
    {
     "data": {
      "text/plain": [
       "(20, 6)"
      ]
     },
     "execution_count": 23,
     "metadata": {},
     "output_type": "execute_result"
    }
   ],
   "source": [
    "items_df = pd.DataFrame(items)\n",
    "items_df.shape\n",
    "# same shape, but different inclusions."
   ]
  },
  {
   "cell_type": "code",
   "execution_count": 24,
   "id": "a92e5da0-8e78-4e3a-8236-fbe98327e173",
   "metadata": {},
   "outputs": [],
   "source": [
    "# setup\n",
    "domain = 'https://api.data.codeup.com'\n",
    "endpoint = '/api/v1/items'\n",
    "items = []\n",
    "\n",
    "# For each page -- until next page is None\n",
    "url = domain + endpoint\n",
    "response = requests.get(url)\n",
    "data = response.json()\n",
    "items.extend(data['payload']['items'])\n",
    "# update the end point\n",
    "endpoint = data['payload']['next_page']"
   ]
  },
  {
   "cell_type": "code",
   "execution_count": 46,
   "id": "fbf4f148-6805-4e9a-ab94-dad312e05fe2",
   "metadata": {},
   "outputs": [],
   "source": [
    "def get_items_df(cached=False):\n",
    "    '''\n",
    "    This function creates a request from the REST API at https://api.data.codeup.com/api/v1/items\n",
    "    and transforms the response into a pandas dataframe named items. It then saves the data as a csv file.\n",
    "    '''\n",
    "    # Unless the cached parameter is set to true, read from the API into a Dataframe and then CSV it.\n",
    "    if cached == False or os.path.isfile('items.csv') == False:\n",
    "        \n",
    "        # create the empty list which will be appended with data with each iteration \n",
    "        items = []\n",
    "\n",
    "        # define the url from where the data is stored\n",
    "        domain = 'https://api.data.codeup.com'\n",
    "        endpoint = '/api/v1/items'\n",
    "        url = domain + endpoint\n",
    "\n",
    "        # define the response by the request\n",
    "        response = requests.get(url)\n",
    "\n",
    "        # convert the response to json\n",
    "        data = response.json()\n",
    "\n",
    "        # define the number of pages based on the max_page value \n",
    "        n = data['payload']['max_page']\n",
    "\n",
    "        # Create a loop to iterate through each page starting with page 1 and ending on page n + 1\n",
    "        # be sure to include the last page.\n",
    "        # p is the page number\n",
    "        for p in range(1, n+1):\n",
    "\n",
    "            # define the new url returned for next page\n",
    "            new_url = url+\"?page=\"+str(p)\n",
    "\n",
    "            # define the response requested\n",
    "            response = requests.get(new_url)\n",
    "\n",
    "            # convert response to json\n",
    "            data = response.json()\n",
    "\n",
    "            #create the variable to hold the items returned from the response\n",
    "            page_items = data['payload']['items']\n",
    "\n",
    "            # add the items from the page to the items list and continue to iterate through n pages\n",
    "            page_items = items.extend(data['payload']['items'])\n",
    "        \n",
    "            # Create a dataframe of the items_list that now hold all the items from all pages\n",
    "        items_df = pd.DataFrame(items)\n",
    "\n",
    "            #also cache the data we read from the REST API to a file on disk\n",
    "        items_df.to_csv('items_df.csv')\n",
    "\n",
    "    else:\n",
    "        # either the cached parameter was true, or a file exists on disk. Read that into a df instead of going to the database\n",
    "        items_df = pd.read_csv('items.csv', index_col=0)\n",
    "\n",
    "    return items_df"
   ]
  },
  {
   "cell_type": "code",
   "execution_count": 47,
   "id": "289ff0cc-2f68-4512-83d3-953fad0bb933",
   "metadata": {},
   "outputs": [],
   "source": [
    "items_df = get_items_df()"
   ]
  },
  {
   "cell_type": "code",
   "execution_count": 48,
   "id": "0f5f780d-7164-46c3-b34c-8e59a92f7eee",
   "metadata": {},
   "outputs": [
    {
     "data": {
      "text/plain": [
       "(50, 6)"
      ]
     },
     "execution_count": 48,
     "metadata": {},
     "output_type": "execute_result"
    }
   ],
   "source": [
    "items_df.shape"
   ]
  },
  {
   "cell_type": "code",
   "execution_count": null,
   "id": "dbc04ce1-88d3-47e7-91d5-073004fbbb55",
   "metadata": {},
   "outputs": [],
   "source": [
    "for item in range(1, n + page_n):\n",
    "    "
   ]
  }
 ],
 "metadata": {
  "kernelspec": {
   "display_name": "Python 3 (ipykernel)",
   "language": "python",
   "name": "python3"
  },
  "language_info": {
   "codemirror_mode": {
    "name": "ipython",
    "version": 3
   },
   "file_extension": ".py",
   "mimetype": "text/x-python",
   "name": "python",
   "nbconvert_exporter": "python",
   "pygments_lexer": "ipython3",
   "version": "3.9.7"
  }
 },
 "nbformat": 4,
 "nbformat_minor": 5
}
