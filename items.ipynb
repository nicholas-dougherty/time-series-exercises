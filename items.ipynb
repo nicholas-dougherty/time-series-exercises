{
 "cells": [
  {
   "cell_type": "markdown",
   "id": "368efe27-4713-41b1-9845-5a58a684a0c6",
   "metadata": {},
   "source": [
    "The end result of this exercise should be a file named acquire.py.\n",
    "\n",
    "1. Using the code from the lesson as a guide and the REST API from https://python.zgulde.net/api/v1/items as we did in the lesson, create a dataframe named items that has all of the data for items.\n",
    "\n",
    "2. Do the same thing, but for stores (https://python.zgulde.net/api/v1/stores)\n",
    "\n",
    "3. Extract the data for sales (https://python.zgulde.net/api/v1/sales). There are a lot of pages of data here, so your code will need to be a little more complex. Your code should continue fetching data from the next page until all of the data is extracted.\n",
    "\n",
    "4. Save the data in your files to local csv files so that it will be faster to access in the future.\n",
    "\n",
    "5. Combine the data from your three separate dataframes into one large dataframe.\n",
    "\n",
    "6. Acquire the Open Power Systems Data for Germany, which has been rapidly expanding its renewable energy production in recent years. The data set includes country-wide totals of electricity consumption, wind power production, and solar power production for 2006-2017. You can get the data here: https://raw.githubusercontent.com/jenfly/opsd/master/opsd_germany_daily.csv\n",
    "\n",
    "7. Make sure all the work that you have done above is reproducible. That is, you should put the code above into separate functions in the acquire.py file and be able to re-run the functions and get the same data."
   ]
  },
  {
   "cell_type": "code",
   "execution_count": 1,
   "id": "a938653f-bda1-4f2a-b336-833cb922077d",
   "metadata": {},
   "outputs": [],
   "source": [
    "import pandas as pd\n",
    "import requests\n",
    "import os"
   ]
  },
  {
   "cell_type": "code",
   "execution_count": 2,
   "id": "727b1165-2a5a-4c93-a319-2fb913c77531",
   "metadata": {},
   "outputs": [
    {
     "data": {
      "text/plain": [
       "<Response [200]>"
      ]
     },
     "execution_count": 2,
     "metadata": {},
     "output_type": "execute_result"
    }
   ],
   "source": [
    "domain = 'https://python.zgulde.net'\n",
    "endpoint = '/api/v1/items'\n",
    "items = []\n",
    "\n",
    "url = domain + endpoint\n",
    "\n",
    "response = requests.get(url)\n",
    "response"
   ]
  },
  {
   "cell_type": "code",
   "execution_count": 3,
   "id": "606b2bb9-5b2a-452e-b078-364c93001e92",
   "metadata": {},
   "outputs": [],
   "source": [
    "data = response.json()"
   ]
  },
  {
   "cell_type": "code",
   "execution_count": 4,
   "id": "e320d7f1-1c75-4ab3-a58f-2b697949a9e0",
   "metadata": {},
   "outputs": [
    {
     "data": {
      "text/plain": [
       "{'payload': {'items': [{'item_brand': 'Riceland',\n",
       "    'item_id': 1,\n",
       "    'item_name': 'Riceland American Jazmine Rice',\n",
       "    'item_price': 0.84,\n",
       "    'item_upc12': '35200264013',\n",
       "    'item_upc14': '35200264013'},\n",
       "   {'item_brand': 'Caress',\n",
       "    'item_id': 2,\n",
       "    'item_name': 'Caress Velvet Bliss Ultra Silkening Beauty Bar - 6 Ct',\n",
       "    'item_price': 6.44,\n",
       "    'item_upc12': '11111065925',\n",
       "    'item_upc14': '11111065925'},\n",
       "   {'item_brand': 'Earths Best',\n",
       "    'item_id': 3,\n",
       "    'item_name': 'Earths Best Organic Fruit Yogurt Smoothie Mixed Berry',\n",
       "    'item_price': 2.43,\n",
       "    'item_upc12': '23923330139',\n",
       "    'item_upc14': '23923330139'},\n",
       "   {'item_brand': 'Boars Head',\n",
       "    'item_id': 4,\n",
       "    'item_name': 'Boars Head Sliced White American Cheese - 120 Ct',\n",
       "    'item_price': 3.14,\n",
       "    'item_upc12': '208528800007',\n",
       "    'item_upc14': '208528800007'},\n",
       "   {'item_brand': 'Back To Nature',\n",
       "    'item_id': 5,\n",
       "    'item_name': 'Back To Nature Gluten Free White Cheddar Rice Thin Crackers',\n",
       "    'item_price': 2.61,\n",
       "    'item_upc12': '759283100036',\n",
       "    'item_upc14': '759283100036'},\n",
       "   {'item_brand': 'Sally Hansen',\n",
       "    'item_id': 6,\n",
       "    'item_name': 'Sally Hansen Nail Color Magnetic 903 Silver Elements',\n",
       "    'item_price': 6.93,\n",
       "    'item_upc12': '74170388732',\n",
       "    'item_upc14': '74170388732'},\n",
       "   {'item_brand': 'Twinings Of London',\n",
       "    'item_id': 7,\n",
       "    'item_name': 'Twinings Of London Classics Lady Grey Tea - 20 Ct',\n",
       "    'item_price': 9.64,\n",
       "    'item_upc12': '70177154004',\n",
       "    'item_upc14': '70177154004'},\n",
       "   {'item_brand': 'Lea & Perrins',\n",
       "    'item_id': 8,\n",
       "    'item_name': 'Lea & Perrins Marinade In-a-bag Cracked Peppercorn',\n",
       "    'item_price': 1.68,\n",
       "    'item_upc12': '51600080015',\n",
       "    'item_upc14': '51600080015'},\n",
       "   {'item_brand': 'Van De Kamps',\n",
       "    'item_id': 9,\n",
       "    'item_name': 'Van De Kamps Fillets Beer Battered - 10 Ct',\n",
       "    'item_price': 1.79,\n",
       "    'item_upc12': '19600923015',\n",
       "    'item_upc14': '19600923015'},\n",
       "   {'item_brand': 'Ahold',\n",
       "    'item_id': 10,\n",
       "    'item_name': 'Ahold Cocoa Almonds',\n",
       "    'item_price': 3.17,\n",
       "    'item_upc12': '688267141676',\n",
       "    'item_upc14': '688267141676'},\n",
       "   {'item_brand': 'Honest Tea',\n",
       "    'item_id': 11,\n",
       "    'item_name': 'Honest Tea Peach White Tea',\n",
       "    'item_price': 3.93,\n",
       "    'item_upc12': '657622604842',\n",
       "    'item_upc14': '657622604842'},\n",
       "   {'item_brand': 'Mueller',\n",
       "    'item_id': 12,\n",
       "    'item_name': 'Mueller Sport Care Basic Support Level Medium Elastic Knee Support',\n",
       "    'item_price': 8.4,\n",
       "    'item_upc12': '74676640211',\n",
       "    'item_upc14': '74676640211'},\n",
       "   {'item_brand': 'Garnier Nutritioniste',\n",
       "    'item_id': 13,\n",
       "    'item_name': 'Garnier Nutritioniste Moisture Rescue Fresh Cleansing Foam',\n",
       "    'item_price': 6.47,\n",
       "    'item_upc12': '603084234561',\n",
       "    'item_upc14': '603084234561'},\n",
       "   {'item_brand': 'Pamprin',\n",
       "    'item_id': 14,\n",
       "    'item_name': 'Pamprin Maximum Strength Multi-symptom Menstrual Pain Relief',\n",
       "    'item_price': 7.54,\n",
       "    'item_upc12': '41167300121',\n",
       "    'item_upc14': '41167300121'},\n",
       "   {'item_brand': 'Suave',\n",
       "    'item_id': 15,\n",
       "    'item_name': 'Suave Naturals Moisturizing Body Wash Creamy Tropical Coconut',\n",
       "    'item_price': 9.11,\n",
       "    'item_upc12': '79400847201',\n",
       "    'item_upc14': '79400847201'},\n",
       "   {'item_brand': 'Burts Bees',\n",
       "    'item_id': 16,\n",
       "    'item_name': 'Burts Bees Daily Moisturizing Cream Sensitive',\n",
       "    'item_price': 5.17,\n",
       "    'item_upc12': '792850014008',\n",
       "    'item_upc14': '792850014008'},\n",
       "   {'item_brand': 'Ducal',\n",
       "    'item_id': 17,\n",
       "    'item_name': 'Ducal Refried Red Beans',\n",
       "    'item_price': 1.16,\n",
       "    'item_upc12': '88313590791',\n",
       "    'item_upc14': '88313590791'},\n",
       "   {'item_brand': 'Scotch',\n",
       "    'item_id': 18,\n",
       "    'item_name': 'Scotch Removable Clear Mounting Squares - 35 Ct',\n",
       "    'item_price': 4.39,\n",
       "    'item_upc12': '21200725340',\n",
       "    'item_upc14': '21200725340'},\n",
       "   {'item_brand': 'Careone',\n",
       "    'item_id': 19,\n",
       "    'item_name': 'Careone Family Comb Set - 8 Ct',\n",
       "    'item_price': 0.74,\n",
       "    'item_upc12': '41520035646',\n",
       "    'item_upc14': '41520035646'},\n",
       "   {'item_brand': 'Usda Produce',\n",
       "    'item_id': 20,\n",
       "    'item_name': 'Plums Black',\n",
       "    'item_price': 5.62,\n",
       "    'item_upc12': '204040000000',\n",
       "    'item_upc14': '204040000000'}],\n",
       "  'max_page': 3,\n",
       "  'next_page': '/api/v1/items?page=2',\n",
       "  'page': 1,\n",
       "  'previous_page': None},\n",
       " 'status': 'ok'}"
      ]
     },
     "execution_count": 4,
     "metadata": {},
     "output_type": "execute_result"
    }
   ],
   "source": [
    "data"
   ]
  },
  {
   "cell_type": "code",
   "execution_count": 5,
   "id": "9357ecb5-a7d6-43d0-ad84-bd1108f72a85",
   "metadata": {},
   "outputs": [],
   "source": [
    "page_n = data['payload']['max_page']"
   ]
  },
  {
   "cell_type": "code",
   "execution_count": 6,
   "id": "2501fcde-4f3a-46fc-b476-85c6d3af12a0",
   "metadata": {},
   "outputs": [
    {
     "data": {
      "text/plain": [
       "3"
      ]
     },
     "execution_count": 6,
     "metadata": {},
     "output_type": "execute_result"
    }
   ],
   "source": [
    "page_n"
   ]
  },
  {
   "cell_type": "code",
   "execution_count": 7,
   "id": "d2cf3f23-a83f-4c0b-a498-a1488db58a79",
   "metadata": {},
   "outputs": [
    {
     "data": {
      "text/plain": [
       "dict"
      ]
     },
     "execution_count": 7,
     "metadata": {},
     "output_type": "execute_result"
    }
   ],
   "source": [
    "type(data)"
   ]
  },
  {
   "cell_type": "code",
   "execution_count": 8,
   "id": "b74b70c3-6647-40ec-9397-003eb9650a8b",
   "metadata": {},
   "outputs": [
    {
     "data": {
      "text/plain": [
       "'ok'"
      ]
     },
     "execution_count": 8,
     "metadata": {},
     "output_type": "execute_result"
    }
   ],
   "source": [
    "data['status']"
   ]
  },
  {
   "cell_type": "code",
   "execution_count": 9,
   "id": "e3a849d4-50c3-41bd-9da1-dc4fcaaa0a53",
   "metadata": {},
   "outputs": [
    {
     "data": {
      "text/plain": [
       "dict_keys(['items', 'max_page', 'next_page', 'page', 'previous_page'])"
      ]
     },
     "execution_count": 9,
     "metadata": {},
     "output_type": "execute_result"
    }
   ],
   "source": [
    "data['payload'].keys()"
   ]
  },
  {
   "cell_type": "code",
   "execution_count": 10,
   "id": "8a19e3f6-8312-4ea9-bd51-cc2edac1e7bb",
   "metadata": {},
   "outputs": [],
   "source": [
    "data_df = pd.DataFrame(data['payload']['items'])"
   ]
  },
  {
   "cell_type": "code",
   "execution_count": 11,
   "id": "a8739dfc-5c67-419b-b6d0-6e18e824ed16",
   "metadata": {},
   "outputs": [
    {
     "data": {
      "text/plain": [
       "(20, 6)"
      ]
     },
     "execution_count": 11,
     "metadata": {},
     "output_type": "execute_result"
    }
   ],
   "source": [
    "data_df.shape"
   ]
  },
  {
   "cell_type": "code",
   "execution_count": 12,
   "id": "842fc7de-e4d8-48d6-8e1a-c21266b50f2e",
   "metadata": {},
   "outputs": [
    {
     "name": "stdout",
     "output_type": "stream",
     "text": [
      "next url: https://python.zgulde.net/api/v1/items?page=2\n"
     ]
    }
   ],
   "source": [
    "url = domain + data['payload']['next_page']\n",
    "print('next url:', url)"
   ]
  },
  {
   "cell_type": "code",
   "execution_count": 13,
   "id": "b7426a81-2962-4514-9210-838af2247e49",
   "metadata": {},
   "outputs": [],
   "source": [
    "response = requests.get(url)\n",
    "data = response.json()\n",
    "items.extend(data['payload']['items'])"
   ]
  },
  {
   "cell_type": "code",
   "execution_count": 14,
   "id": "d1137005-9f92-4439-bb76-8229e01e1352",
   "metadata": {},
   "outputs": [
    {
     "name": "stdout",
     "output_type": "stream",
     "text": [
      "next endpoint /api/v1/items?page=3\n",
      "next url: https://python.zgulde.net/api/v1/items?page=3\n"
     ]
    }
   ],
   "source": [
    "print('next endpoint', data['payload']['next_page'])\n",
    "url = domain + data['payload']['next_page']\n",
    "print('next url:', url)"
   ]
  },
  {
   "cell_type": "code",
   "execution_count": 15,
   "id": "f76fbcf2-5ae7-4b4d-a288-99fdabd4b26b",
   "metadata": {},
   "outputs": [
    {
     "data": {
      "text/plain": [
       "(20, 6)"
      ]
     },
     "execution_count": 15,
     "metadata": {},
     "output_type": "execute_result"
    }
   ],
   "source": [
    "items_df = pd.DataFrame(items)\n",
    "items_df.shape\n",
    "# same shape, but different inclusions."
   ]
  },
  {
   "cell_type": "code",
   "execution_count": 16,
   "id": "a92e5da0-8e78-4e3a-8236-fbe98327e173",
   "metadata": {},
   "outputs": [],
   "source": [
    "# setup\n",
    "domain = 'https://api.data.codeup.com'\n",
    "endpoint = '/api/v1/items'\n",
    "items = []\n",
    "\n",
    "# For each page -- until next page is None\n",
    "url = domain + endpoint\n",
    "response = requests.get(url)\n",
    "data = response.json()\n",
    "items.extend(data['payload']['items'])\n",
    "# update the end point\n",
    "endpoint = data['payload']['next_page']"
   ]
  },
  {
   "cell_type": "code",
   "execution_count": 104,
   "id": "7b9bef56-243e-413f-9587-3260cc390d89",
   "metadata": {},
   "outputs": [],
   "source": [
    "def get_items_df(use_cache=True):\n",
    "    '''\n",
    "    This function creates a request from the REST API at https://api.data.codeup.com/api/v1/stores\n",
    "    and transforms the response into a pandas dataframe named items. It then saves the data as a csv file.\n",
    "    '''\n",
    "    # If the cached parameter is True, read the csv file on disk in the same folder as this file \n",
    "    if os.path.exists('items_df.csv') and use_cache:\n",
    "        print('Using cached CSV')\n",
    "        return pd.read_csv('items_df.csv')\n",
    "   \n",
    "    # Otherwise, proceed with the following\n",
    "    print('CSV not present, initializating acquisition')\n",
    "    \n",
    "    # create the empty list which will be appended with data with each iteration \n",
    "    items = []\n",
    "\n",
    "    # define the url from where the data is stored\n",
    "    domain = 'https://api.data.codeup.com'\n",
    "    endpoint = '/api/v1/items'\n",
    "    url = domain + endpoint\n",
    "    \n",
    "    # define the response by the request\n",
    "    response = requests.get(url)\n",
    "    # convert the response to json\n",
    "    data = response.json()\n",
    "    # define the number of pages based on the max_page value \n",
    "    n = data['payload']['max_page']\n",
    "    # Create a loop to iterate through each page starting with page 1 and ending on page n + 1\n",
    "    # be sure to include the last page.\n",
    "    # p is the page number\n",
    "    for p in range(1, n+1):\n",
    "        # define the new url returned for next page\n",
    "        new_url = url+\"?page=\"+str(p)\n",
    "        # define the response requested\n",
    "        response = requests.get(new_url)\n",
    "        # convert response to json\n",
    "        data = response.json()\n",
    "        #create the variable to hold the items returned from the response\n",
    "        page_items = data['payload']['items']\n",
    "        # add the items from the page to the items list and continue to iterate through n pages\n",
    "        page_items = items.extend(data['payload']['items'])\n",
    "    \n",
    "        # Create a dataframe of the items_list that now hold all the items from all pages\n",
    "    items_df = pd.DataFrame(items)\n",
    "    \n",
    "    print('iteration complete, creating CSV')\n",
    "        #also cache the data we read from the REST API to a file on disk\n",
    "    items_df.to_csv('items_df.csv', index=False)\n",
    "        \n",
    "\n",
    "    print('DataFrame available for use')\n",
    "    \n",
    "    return items_df"
   ]
  },
  {
   "cell_type": "code",
   "execution_count": 105,
   "id": "289ff0cc-2f68-4512-83d3-953fad0bb933",
   "metadata": {},
   "outputs": [
    {
     "name": "stdout",
     "output_type": "stream",
     "text": [
      "CSV not present, initializating acquisition\n",
      "iteration complete, creating CSV\n",
      "DataFrame available for use\n"
     ]
    }
   ],
   "source": [
    "items_df = get_items_df()"
   ]
  },
  {
   "cell_type": "code",
   "execution_count": 106,
   "id": "0f5f780d-7164-46c3-b34c-8e59a92f7eee",
   "metadata": {},
   "outputs": [
    {
     "data": {
      "text/html": [
       "<div><div id=8d86a6b0-1be7-488d-89ad-b22dd75a2489 style=\"display:none; background-color:#9D6CFF; color:white; width:200px; height:30px; padding-left:5px; border-radius:4px; flex-direction:row; justify-content:space-around; align-items:center;\" onmouseover=\"this.style.backgroundColor='#BA9BF8'\" onmouseout=\"this.style.backgroundColor='#9D6CFF'\" onclick=\"window.commands?.execute('create-mitosheet-from-dataframe-output');\">See Full Dataframe in Mito</div> <script> if (window.commands.hasCommand('create-mitosheet-from-dataframe-output')) document.getElementById('8d86a6b0-1be7-488d-89ad-b22dd75a2489').style.display = 'flex' </script> <table border=\"1\" class=\"dataframe\">\n",
       "  <thead>\n",
       "    <tr style=\"text-align: right;\">\n",
       "      <th></th>\n",
       "      <th>item_brand</th>\n",
       "      <th>item_id</th>\n",
       "      <th>item_name</th>\n",
       "      <th>item_price</th>\n",
       "      <th>item_upc12</th>\n",
       "      <th>item_upc14</th>\n",
       "    </tr>\n",
       "  </thead>\n",
       "  <tbody>\n",
       "    <tr>\n",
       "      <th>0</th>\n",
       "      <td>Riceland</td>\n",
       "      <td>1</td>\n",
       "      <td>Riceland American Jazmine Rice</td>\n",
       "      <td>0.84</td>\n",
       "      <td>35200264013</td>\n",
       "      <td>35200264013</td>\n",
       "    </tr>\n",
       "    <tr>\n",
       "      <th>1</th>\n",
       "      <td>Caress</td>\n",
       "      <td>2</td>\n",
       "      <td>Caress Velvet Bliss Ultra Silkening Beauty Bar - 6 Ct</td>\n",
       "      <td>6.44</td>\n",
       "      <td>11111065925</td>\n",
       "      <td>11111065925</td>\n",
       "    </tr>\n",
       "    <tr>\n",
       "      <th>2</th>\n",
       "      <td>Earths Best</td>\n",
       "      <td>3</td>\n",
       "      <td>Earths Best Organic Fruit Yogurt Smoothie Mixed Berry</td>\n",
       "      <td>2.43</td>\n",
       "      <td>23923330139</td>\n",
       "      <td>23923330139</td>\n",
       "    </tr>\n",
       "    <tr>\n",
       "      <th>3</th>\n",
       "      <td>Boars Head</td>\n",
       "      <td>4</td>\n",
       "      <td>Boars Head Sliced White American Cheese - 120 Ct</td>\n",
       "      <td>3.14</td>\n",
       "      <td>208528800007</td>\n",
       "      <td>208528800007</td>\n",
       "    </tr>\n",
       "    <tr>\n",
       "      <th>4</th>\n",
       "      <td>Back To Nature</td>\n",
       "      <td>5</td>\n",
       "      <td>Back To Nature Gluten Free White Cheddar Rice Thin Crackers</td>\n",
       "      <td>2.61</td>\n",
       "      <td>759283100036</td>\n",
       "      <td>759283100036</td>\n",
       "    </tr>\n",
       "  </tbody>\n",
       "</table></div>"
      ],
      "text/plain": [
       "       item_brand  item_id                                          item_name  \\\n",
       "0        Riceland        1                     Riceland American Jazmine Rice   \n",
       "1          Caress        2  Caress Velvet Bliss Ultra Silkening Beauty Bar...   \n",
       "2     Earths Best        3  Earths Best Organic Fruit Yogurt Smoothie Mixe...   \n",
       "3      Boars Head        4   Boars Head Sliced White American Cheese - 120 Ct   \n",
       "4  Back To Nature        5  Back To Nature Gluten Free White Cheddar Rice ...   \n",
       "\n",
       "   item_price    item_upc12    item_upc14  \n",
       "0        0.84   35200264013   35200264013  \n",
       "1        6.44   11111065925   11111065925  \n",
       "2        2.43   23923330139   23923330139  \n",
       "3        3.14  208528800007  208528800007  \n",
       "4        2.61  759283100036  759283100036  "
      ]
     },
     "execution_count": 106,
     "metadata": {},
     "output_type": "execute_result"
    }
   ],
   "source": [
    "items_df.head()"
   ]
  },
  {
   "cell_type": "markdown",
   "id": "d63ad0e3-b54f-496b-a942-937c68d93c78",
   "metadata": {},
   "source": [
    "2. Do the same thing, but for stores (https://python.zgulde.net/api/v1/stores)"
   ]
  },
  {
   "cell_type": "code",
   "execution_count": 107,
   "id": "fe1857d6-8896-4612-9561-aabc6cf16292",
   "metadata": {},
   "outputs": [],
   "source": [
    "def get_stores_df(use_cache=True):\n",
    "    '''\n",
    "    This function creates a request from the REST API at https://api.data.codeup.com/api/v1/stores\n",
    "    and transforms the response into a pandas dataframe named items. It then saves the data as a csv file.\n",
    "    '''\n",
    "    # If the cached parameter is True, read the csv file on disk in the same folder as this file \n",
    "    if os.path.exists('stores_df.csv') and use_cache:\n",
    "        print('Using cached CSV')\n",
    "        return pd.read_csv('stores_df.csv')\n",
    "   \n",
    "    print('CSV not present, initializating acquisition')\n",
    "    \n",
    "    # create the empty list which will be appended with data with each iteration \n",
    "    store_list = []\n",
    "    print('Creating store list')\n",
    "    # define the url from where the data is stored\n",
    "    domain = 'https://python.zgulde.net'\n",
    "    endpoint = '/api/v1/stores'\n",
    "    url = domain + endpoint\n",
    "\n",
    "    # define the response by the request\n",
    "    response = requests.get(url)\n",
    "    # convert the response to json\n",
    "    data = response.json()\n",
    "    # define the number of pages based on the max_page value \n",
    "    n = data['payload']['max_page']\n",
    "    \n",
    "    print('Iterating through webpages and appending content to store list')\n",
    "    # Create a loop to iterate through each page starting with page 1 and ending on page n + 1\n",
    "    # be sure to include the last page.\n",
    "    # p is the page number\n",
    "    for p in range(1, n+1):\n",
    "        # define the new url returned for next page\n",
    "        new_url = url+\"?page=\"+str(p)\n",
    "        # define the response requested\n",
    "        response = requests.get(new_url)\n",
    "        # convert response to json\n",
    "        data = response.json()\n",
    "        #create the variable to hold the items returned from the response\n",
    "        page_stores = data['payload']['stores']\n",
    "        # add the items from the page to the items list and continue to iterate through n pages\n",
    "        page_stores = store_list.extend(data['payload']['stores'])\n",
    "        \n",
    "    print('iteration complete, creating CSV')\n",
    "        # Create a dataframe of the items_list that now hold all the items from all pages\n",
    "        \n",
    "    stores_df = pd.DataFrame(store_list)\n",
    "        \n",
    "    stores_df.to_csv('stores_df.csv', index=False)\n",
    "    \n",
    "    print('DataFrame available for use')\n",
    "    \n",
    "    return stores_df"
   ]
  },
  {
   "cell_type": "code",
   "execution_count": 108,
   "id": "82895ad9-0e8b-4160-8b68-f50590dcaa4a",
   "metadata": {},
   "outputs": [
    {
     "name": "stdout",
     "output_type": "stream",
     "text": [
      "Using cached CSV\n"
     ]
    },
    {
     "data": {
      "text/html": [
       "<div><div id=b0342630-8277-42b8-8b5d-552ded384c12 style=\"display:none; background-color:#9D6CFF; color:white; width:200px; height:30px; padding-left:5px; border-radius:4px; flex-direction:row; justify-content:space-around; align-items:center;\" onmouseover=\"this.style.backgroundColor='#BA9BF8'\" onmouseout=\"this.style.backgroundColor='#9D6CFF'\" onclick=\"window.commands?.execute('create-mitosheet-from-dataframe-output');\">See Full Dataframe in Mito</div> <script> if (window.commands.hasCommand('create-mitosheet-from-dataframe-output')) document.getElementById('b0342630-8277-42b8-8b5d-552ded384c12').style.display = 'flex' </script> <table border=\"1\" class=\"dataframe\">\n",
       "  <thead>\n",
       "    <tr style=\"text-align: right;\">\n",
       "      <th></th>\n",
       "      <th>store_address</th>\n",
       "      <th>store_city</th>\n",
       "      <th>store_id</th>\n",
       "      <th>store_state</th>\n",
       "      <th>store_zipcode</th>\n",
       "    </tr>\n",
       "  </thead>\n",
       "  <tbody>\n",
       "    <tr>\n",
       "      <th>0</th>\n",
       "      <td>12125 Alamo Ranch Pkwy</td>\n",
       "      <td>San Antonio</td>\n",
       "      <td>1</td>\n",
       "      <td>TX</td>\n",
       "      <td>78253</td>\n",
       "    </tr>\n",
       "    <tr>\n",
       "      <th>1</th>\n",
       "      <td>9255 FM 471 West</td>\n",
       "      <td>San Antonio</td>\n",
       "      <td>2</td>\n",
       "      <td>TX</td>\n",
       "      <td>78251</td>\n",
       "    </tr>\n",
       "    <tr>\n",
       "      <th>2</th>\n",
       "      <td>2118 Fredericksburg Rdj</td>\n",
       "      <td>San Antonio</td>\n",
       "      <td>3</td>\n",
       "      <td>TX</td>\n",
       "      <td>78201</td>\n",
       "    </tr>\n",
       "    <tr>\n",
       "      <th>3</th>\n",
       "      <td>516 S Flores St</td>\n",
       "      <td>San Antonio</td>\n",
       "      <td>4</td>\n",
       "      <td>TX</td>\n",
       "      <td>78204</td>\n",
       "    </tr>\n",
       "    <tr>\n",
       "      <th>4</th>\n",
       "      <td>1520 Austin Hwy</td>\n",
       "      <td>San Antonio</td>\n",
       "      <td>5</td>\n",
       "      <td>TX</td>\n",
       "      <td>78218</td>\n",
       "    </tr>\n",
       "    <tr>\n",
       "      <th>5</th>\n",
       "      <td>1015 S WW White Rd</td>\n",
       "      <td>San Antonio</td>\n",
       "      <td>6</td>\n",
       "      <td>TX</td>\n",
       "      <td>78220</td>\n",
       "    </tr>\n",
       "    <tr>\n",
       "      <th>6</th>\n",
       "      <td>12018 Perrin Beitel Rd</td>\n",
       "      <td>San Antonio</td>\n",
       "      <td>7</td>\n",
       "      <td>TX</td>\n",
       "      <td>78217</td>\n",
       "    </tr>\n",
       "    <tr>\n",
       "      <th>7</th>\n",
       "      <td>15000 San Pedro Ave</td>\n",
       "      <td>San Antonio</td>\n",
       "      <td>8</td>\n",
       "      <td>TX</td>\n",
       "      <td>78232</td>\n",
       "    </tr>\n",
       "    <tr>\n",
       "      <th>8</th>\n",
       "      <td>735 SW Military Dr</td>\n",
       "      <td>San Antonio</td>\n",
       "      <td>9</td>\n",
       "      <td>TX</td>\n",
       "      <td>78221</td>\n",
       "    </tr>\n",
       "    <tr>\n",
       "      <th>9</th>\n",
       "      <td>8503 NW Military Hwy</td>\n",
       "      <td>San Antonio</td>\n",
       "      <td>10</td>\n",
       "      <td>TX</td>\n",
       "      <td>78231</td>\n",
       "    </tr>\n",
       "  </tbody>\n",
       "</table></div>"
      ],
      "text/plain": [
       "             store_address   store_city  store_id store_state  store_zipcode\n",
       "0   12125 Alamo Ranch Pkwy  San Antonio         1          TX          78253\n",
       "1         9255 FM 471 West  San Antonio         2          TX          78251\n",
       "2  2118 Fredericksburg Rdj  San Antonio         3          TX          78201\n",
       "3          516 S Flores St  San Antonio         4          TX          78204\n",
       "4          1520 Austin Hwy  San Antonio         5          TX          78218\n",
       "5       1015 S WW White Rd  San Antonio         6          TX          78220\n",
       "6   12018 Perrin Beitel Rd  San Antonio         7          TX          78217\n",
       "7      15000 San Pedro Ave  San Antonio         8          TX          78232\n",
       "8       735 SW Military Dr  San Antonio         9          TX          78221\n",
       "9     8503 NW Military Hwy  San Antonio        10          TX          78231"
      ]
     },
     "execution_count": 108,
     "metadata": {},
     "output_type": "execute_result"
    }
   ],
   "source": [
    "stores_df = get_stores_df()\n",
    "stores_df"
   ]
  },
  {
   "cell_type": "code",
   "execution_count": 109,
   "id": "add4ca89-45d8-4da7-b6c8-f40406668fc9",
   "metadata": {},
   "outputs": [
    {
     "data": {
      "text/plain": [
       "store_address    object\n",
       "store_city       object\n",
       "store_id          int64\n",
       "store_state      object\n",
       "store_zipcode     int64\n",
       "dtype: object"
      ]
     },
     "execution_count": 109,
     "metadata": {},
     "output_type": "execute_result"
    }
   ],
   "source": [
    "stores_df.dtypes"
   ]
  },
  {
   "cell_type": "code",
   "execution_count": 110,
   "id": "199fedca-a7b8-43bc-8e26-e3b935c8f474",
   "metadata": {},
   "outputs": [],
   "source": [
    "# assuming stores is supposed to just be ten rows, moving forward.\n",
    "def get_sales_df(use_cache=True):\n",
    "    '''\n",
    "    This function creates a request from the REST API at https://api.data.codeup.com/api/v1/stores\n",
    "    and transforms the response into a pandas dataframe named items. It then saves the data as a csv file.\n",
    "    '''\n",
    "    # If the cached parameter is True, read the csv file on disk in the same folder as this file \n",
    "    if os.path.exists('sales_df.csv') and use_cache:\n",
    "        print('Using cached CSV')\n",
    "        return pd.read_csv('sales_df.csv')\n",
    "   \n",
    "    print('CSV not present, initializating acquisition')\n",
    "    \n",
    "    # create the empty list which will be appended with data with each iteration \n",
    "    sales_list = []\n",
    "    print('Creating sales list')\n",
    "    \n",
    "    # define the url from where the data is stored\n",
    "    domain = 'https://python.zgulde.net'\n",
    "    endpoint = '/api/v1/sales'\n",
    "    url = domain + endpoint\n",
    "\n",
    "    # define the response by the request\n",
    "    response = requests.get(url)\n",
    "    # convert the response to json\n",
    "    data = response.json()\n",
    "    # define the number of pages based on the max_page value \n",
    "    n = data['payload']['max_page']\n",
    "    \n",
    "    print('Iterating through webpages and appending content to store list')\n",
    "    # Create a loop to iterate through each page starting with page 1 and ending on page n + 1\n",
    "    # be sure to include the last page.\n",
    "    # p is the page number\n",
    "    for p in range(1, n+1):\n",
    "        # define the new url returned for next page\n",
    "        new_url = url+\"?page=\"+str(p)\n",
    "        # define the response requested\n",
    "        response = requests.get(new_url)\n",
    "        # convert response to json\n",
    "        data = response.json()\n",
    "        #create the variable to hold the items returned from the response\n",
    "        page_sales = data['payload']['sales']\n",
    "        # add the items from the page to the items list and continue to iterate through n pages\n",
    "        page_sales = sales_list.extend(data['payload']['sales'])\n",
    "        \n",
    "    print('iteration complete, creating CSV')\n",
    "        # Create a dataframe of the items_list that now hold all the items from all pages\n",
    "        \n",
    "    sales_df = pd.DataFrame(sales_list)\n",
    "    # Noticed some keys need to be fixed\n",
    "    #sales_df.rename(columns={'item':'item_id','store':'store_id'},inplace=True)\n",
    "    sales_df = sales_df.rename(columns={'item':'item_id','store':'store_id'})\n",
    "        \n",
    "    sales_df.to_csv('sales_df.csv', index=False)\n",
    "    \n",
    "    print('DataFrame available for use')\n",
    "    \n",
    "    return sales_df"
   ]
  },
  {
   "cell_type": "code",
   "execution_count": 111,
   "id": "4a80b923-4388-46a5-a1ec-3396a2a3e72b",
   "metadata": {},
   "outputs": [
    {
     "name": "stdout",
     "output_type": "stream",
     "text": [
      "Using cached CSV\n"
     ]
    }
   ],
   "source": [
    "sales_df = get_sales_df()"
   ]
  },
  {
   "cell_type": "code",
   "execution_count": 65,
   "id": "71f7159b-f799-484f-b3be-89b79ddb2b61",
   "metadata": {},
   "outputs": [
    {
     "data": {
      "text/plain": [
       "item_id          int64\n",
       "sale_amount    float64\n",
       "sale_date       object\n",
       "sale_id          int64\n",
       "store_id         int64\n",
       "dtype: object"
      ]
     },
     "execution_count": 65,
     "metadata": {},
     "output_type": "execute_result"
    }
   ],
   "source": [
    "sales_df.dtypes"
   ]
  },
  {
   "cell_type": "code",
   "execution_count": 56,
   "id": "73c0cd1d-1c11-44ec-baf7-bf91b67585a8",
   "metadata": {},
   "outputs": [],
   "source": [
    "#sales_df.rename(columns={'item':'item_id','store':'store_id'},inplace=True)\n",
    "#shifted this into function"
   ]
  },
  {
   "cell_type": "code",
   "execution_count": 121,
   "id": "02c5b11c-e071-4c0c-901c-6684a0ef9fd6",
   "metadata": {},
   "outputs": [],
   "source": [
    "def get_combined_df(use_cache=True):\n",
    "    '''\n",
    "    This function creates a request from the REST API at https://api.data.codeup.com/api/v1/stores\n",
    "    and transforms the response into a pandas dataframe named items. It then saves the data as a csv file.\n",
    "    '''\n",
    "    # If the cached parameter is True, read the csv file on disk in the same folder as this file \n",
    "    if os.path.exists('sales_stores_items.csv') and use_cache:\n",
    "        print('Using cached CSV')\n",
    "        return pd.read_csv('sales_stores_items.csv')\n",
    "    \n",
    "    #Otherwise, create the DF using previous cached CSVs.\n",
    "    print('Using cached CSVs to created a dataframe')\n",
    "    \n",
    "    #hashes can be removed in case of error. Used to check status. \n",
    "    sales = get_sales_df()\n",
    "    #print('SALES')\n",
    "    #print(sales.shape)\n",
    "    #print(sales.columns)\n",
    "    stores = get_stores_df()\n",
    "    #print('STORES')\n",
    "    #print(stores.shape)\n",
    "    #print(stores.columns) \n",
    "    #print('ITEMS')\n",
    "    items = get_items_df()\n",
    "    #print(items.shape)\n",
    "    #print(items.columns)\n",
    "    \n",
    "    # I went back to my previous function and renamed the columns items and sale to their appropriate ids, so now these can be merged\n",
    "    print('combining sales and stores on store_id')\n",
    "    #sales_stores = sales.merge(stores, how='inner', on='store_id')\n",
    "    cronenberg = sales.merge(stores, on='store_id')\n",
    "    \n",
    "    print('combining again on item_id')\n",
    "    combined_df = cronenberg.merge(items, how='inner', on='item_id')\n",
    "    \n",
    "    print('Dataframe ready, sending to a CSV')\n",
    "    # CSV from CVS\n",
    "    combined_df.to_csv('sales_stores_items.csv')\n",
    "    \n",
    "    return combined_df"
   ]
  },
  {
   "cell_type": "code",
   "execution_count": 130,
   "id": "07cc74a1-5903-419a-aa5b-cb344a5809b8",
   "metadata": {},
   "outputs": [
    {
     "name": "stdout",
     "output_type": "stream",
     "text": [
      "Using cached CSV\n"
     ]
    }
   ],
   "source": [
    "combined_df = get_combined_df()"
   ]
  },
  {
   "cell_type": "code",
   "execution_count": 131,
   "id": "62892bf0-bba8-47f4-a109-b24676151ac7",
   "metadata": {},
   "outputs": [
    {
     "data": {
      "text/html": [
       "<div><div id=5cb87564-b95b-4fa7-98c6-9f895c33e76d style=\"display:none; background-color:#9D6CFF; color:white; width:200px; height:30px; padding-left:5px; border-radius:4px; flex-direction:row; justify-content:space-around; align-items:center;\" onmouseover=\"this.style.backgroundColor='#BA9BF8'\" onmouseout=\"this.style.backgroundColor='#9D6CFF'\" onclick=\"window.commands?.execute('create-mitosheet-from-dataframe-output');\">See Full Dataframe in Mito</div> <script> if (window.commands.hasCommand('create-mitosheet-from-dataframe-output')) document.getElementById('5cb87564-b95b-4fa7-98c6-9f895c33e76d').style.display = 'flex' </script> <table border=\"1\" class=\"dataframe\">\n",
       "  <thead>\n",
       "    <tr style=\"text-align: right;\">\n",
       "      <th></th>\n",
       "      <th>sale_id</th>\n",
       "      <th>store_id</th>\n",
       "      <th>item_id</th>\n",
       "      <th>item_brand</th>\n",
       "      <th>item_name</th>\n",
       "      <th>item_price</th>\n",
       "      <th>sale_amount</th>\n",
       "      <th>sale_date</th>\n",
       "      <th>store_address</th>\n",
       "      <th>store_city</th>\n",
       "      <th>store_state</th>\n",
       "      <th>store_zipcode</th>\n",
       "      <th>item_upc12</th>\n",
       "      <th>item_upc14</th>\n",
       "    </tr>\n",
       "  </thead>\n",
       "  <tbody>\n",
       "    <tr>\n",
       "      <th>0</th>\n",
       "      <td>1</td>\n",
       "      <td>1</td>\n",
       "      <td>1</td>\n",
       "      <td>Riceland</td>\n",
       "      <td>Riceland American Jazmine Rice</td>\n",
       "      <td>0.84</td>\n",
       "      <td>13.0</td>\n",
       "      <td>Tue, 01 Jan 2013 00:00:00 GMT</td>\n",
       "      <td>12125 Alamo Ranch Pkwy</td>\n",
       "      <td>San Antonio</td>\n",
       "      <td>TX</td>\n",
       "      <td>78253</td>\n",
       "      <td>35200264013</td>\n",
       "      <td>35200264013</td>\n",
       "    </tr>\n",
       "    <tr>\n",
       "      <th>1</th>\n",
       "      <td>2</td>\n",
       "      <td>1</td>\n",
       "      <td>1</td>\n",
       "      <td>Riceland</td>\n",
       "      <td>Riceland American Jazmine Rice</td>\n",
       "      <td>0.84</td>\n",
       "      <td>11.0</td>\n",
       "      <td>Wed, 02 Jan 2013 00:00:00 GMT</td>\n",
       "      <td>12125 Alamo Ranch Pkwy</td>\n",
       "      <td>San Antonio</td>\n",
       "      <td>TX</td>\n",
       "      <td>78253</td>\n",
       "      <td>35200264013</td>\n",
       "      <td>35200264013</td>\n",
       "    </tr>\n",
       "    <tr>\n",
       "      <th>2</th>\n",
       "      <td>3</td>\n",
       "      <td>1</td>\n",
       "      <td>1</td>\n",
       "      <td>Riceland</td>\n",
       "      <td>Riceland American Jazmine Rice</td>\n",
       "      <td>0.84</td>\n",
       "      <td>14.0</td>\n",
       "      <td>Thu, 03 Jan 2013 00:00:00 GMT</td>\n",
       "      <td>12125 Alamo Ranch Pkwy</td>\n",
       "      <td>San Antonio</td>\n",
       "      <td>TX</td>\n",
       "      <td>78253</td>\n",
       "      <td>35200264013</td>\n",
       "      <td>35200264013</td>\n",
       "    </tr>\n",
       "    <tr>\n",
       "      <th>3</th>\n",
       "      <td>4</td>\n",
       "      <td>1</td>\n",
       "      <td>1</td>\n",
       "      <td>Riceland</td>\n",
       "      <td>Riceland American Jazmine Rice</td>\n",
       "      <td>0.84</td>\n",
       "      <td>13.0</td>\n",
       "      <td>Fri, 04 Jan 2013 00:00:00 GMT</td>\n",
       "      <td>12125 Alamo Ranch Pkwy</td>\n",
       "      <td>San Antonio</td>\n",
       "      <td>TX</td>\n",
       "      <td>78253</td>\n",
       "      <td>35200264013</td>\n",
       "      <td>35200264013</td>\n",
       "    </tr>\n",
       "    <tr>\n",
       "      <th>4</th>\n",
       "      <td>5</td>\n",
       "      <td>1</td>\n",
       "      <td>1</td>\n",
       "      <td>Riceland</td>\n",
       "      <td>Riceland American Jazmine Rice</td>\n",
       "      <td>0.84</td>\n",
       "      <td>10.0</td>\n",
       "      <td>Sat, 05 Jan 2013 00:00:00 GMT</td>\n",
       "      <td>12125 Alamo Ranch Pkwy</td>\n",
       "      <td>San Antonio</td>\n",
       "      <td>TX</td>\n",
       "      <td>78253</td>\n",
       "      <td>35200264013</td>\n",
       "      <td>35200264013</td>\n",
       "    </tr>\n",
       "    <tr>\n",
       "      <th>...</th>\n",
       "      <td>...</td>\n",
       "      <td>...</td>\n",
       "      <td>...</td>\n",
       "      <td>...</td>\n",
       "      <td>...</td>\n",
       "      <td>...</td>\n",
       "      <td>...</td>\n",
       "      <td>...</td>\n",
       "      <td>...</td>\n",
       "      <td>...</td>\n",
       "      <td>...</td>\n",
       "      <td>...</td>\n",
       "      <td>...</td>\n",
       "      <td>...</td>\n",
       "    </tr>\n",
       "    <tr>\n",
       "      <th>912995</th>\n",
       "      <td>912996</td>\n",
       "      <td>10</td>\n",
       "      <td>50</td>\n",
       "      <td>Choice</td>\n",
       "      <td>Choice Organic Teas Black Tea Classic Black - 16 Ct</td>\n",
       "      <td>5.20</td>\n",
       "      <td>63.0</td>\n",
       "      <td>Wed, 27 Dec 2017 00:00:00 GMT</td>\n",
       "      <td>8503 NW Military Hwy</td>\n",
       "      <td>San Antonio</td>\n",
       "      <td>TX</td>\n",
       "      <td>78231</td>\n",
       "      <td>47445919221</td>\n",
       "      <td>47445919221</td>\n",
       "    </tr>\n",
       "    <tr>\n",
       "      <th>912996</th>\n",
       "      <td>912997</td>\n",
       "      <td>10</td>\n",
       "      <td>50</td>\n",
       "      <td>Choice</td>\n",
       "      <td>Choice Organic Teas Black Tea Classic Black - 16 Ct</td>\n",
       "      <td>5.20</td>\n",
       "      <td>59.0</td>\n",
       "      <td>Thu, 28 Dec 2017 00:00:00 GMT</td>\n",
       "      <td>8503 NW Military Hwy</td>\n",
       "      <td>San Antonio</td>\n",
       "      <td>TX</td>\n",
       "      <td>78231</td>\n",
       "      <td>47445919221</td>\n",
       "      <td>47445919221</td>\n",
       "    </tr>\n",
       "    <tr>\n",
       "      <th>912997</th>\n",
       "      <td>912998</td>\n",
       "      <td>10</td>\n",
       "      <td>50</td>\n",
       "      <td>Choice</td>\n",
       "      <td>Choice Organic Teas Black Tea Classic Black - 16 Ct</td>\n",
       "      <td>5.20</td>\n",
       "      <td>74.0</td>\n",
       "      <td>Fri, 29 Dec 2017 00:00:00 GMT</td>\n",
       "      <td>8503 NW Military Hwy</td>\n",
       "      <td>San Antonio</td>\n",
       "      <td>TX</td>\n",
       "      <td>78231</td>\n",
       "      <td>47445919221</td>\n",
       "      <td>47445919221</td>\n",
       "    </tr>\n",
       "    <tr>\n",
       "      <th>912998</th>\n",
       "      <td>912999</td>\n",
       "      <td>10</td>\n",
       "      <td>50</td>\n",
       "      <td>Choice</td>\n",
       "      <td>Choice Organic Teas Black Tea Classic Black - 16 Ct</td>\n",
       "      <td>5.20</td>\n",
       "      <td>62.0</td>\n",
       "      <td>Sat, 30 Dec 2017 00:00:00 GMT</td>\n",
       "      <td>8503 NW Military Hwy</td>\n",
       "      <td>San Antonio</td>\n",
       "      <td>TX</td>\n",
       "      <td>78231</td>\n",
       "      <td>47445919221</td>\n",
       "      <td>47445919221</td>\n",
       "    </tr>\n",
       "    <tr>\n",
       "      <th>912999</th>\n",
       "      <td>913000</td>\n",
       "      <td>10</td>\n",
       "      <td>50</td>\n",
       "      <td>Choice</td>\n",
       "      <td>Choice Organic Teas Black Tea Classic Black - 16 Ct</td>\n",
       "      <td>5.20</td>\n",
       "      <td>82.0</td>\n",
       "      <td>Sun, 31 Dec 2017 00:00:00 GMT</td>\n",
       "      <td>8503 NW Military Hwy</td>\n",
       "      <td>San Antonio</td>\n",
       "      <td>TX</td>\n",
       "      <td>78231</td>\n",
       "      <td>47445919221</td>\n",
       "      <td>47445919221</td>\n",
       "    </tr>\n",
       "  </tbody>\n",
       "</table></div>"
      ],
      "text/plain": [
       "        sale_id  store_id  item_id item_brand  \\\n",
       "0             1         1        1   Riceland   \n",
       "1             2         1        1   Riceland   \n",
       "2             3         1        1   Riceland   \n",
       "3             4         1        1   Riceland   \n",
       "4             5         1        1   Riceland   \n",
       "...         ...       ...      ...        ...   \n",
       "912995   912996        10       50     Choice   \n",
       "912996   912997        10       50     Choice   \n",
       "912997   912998        10       50     Choice   \n",
       "912998   912999        10       50     Choice   \n",
       "912999   913000        10       50     Choice   \n",
       "\n",
       "                                                item_name  item_price  \\\n",
       "0                          Riceland American Jazmine Rice        0.84   \n",
       "1                          Riceland American Jazmine Rice        0.84   \n",
       "2                          Riceland American Jazmine Rice        0.84   \n",
       "3                          Riceland American Jazmine Rice        0.84   \n",
       "4                          Riceland American Jazmine Rice        0.84   \n",
       "...                                                   ...         ...   \n",
       "912995  Choice Organic Teas Black Tea Classic Black - ...        5.20   \n",
       "912996  Choice Organic Teas Black Tea Classic Black - ...        5.20   \n",
       "912997  Choice Organic Teas Black Tea Classic Black - ...        5.20   \n",
       "912998  Choice Organic Teas Black Tea Classic Black - ...        5.20   \n",
       "912999  Choice Organic Teas Black Tea Classic Black - ...        5.20   \n",
       "\n",
       "        sale_amount                      sale_date           store_address  \\\n",
       "0              13.0  Tue, 01 Jan 2013 00:00:00 GMT  12125 Alamo Ranch Pkwy   \n",
       "1              11.0  Wed, 02 Jan 2013 00:00:00 GMT  12125 Alamo Ranch Pkwy   \n",
       "2              14.0  Thu, 03 Jan 2013 00:00:00 GMT  12125 Alamo Ranch Pkwy   \n",
       "3              13.0  Fri, 04 Jan 2013 00:00:00 GMT  12125 Alamo Ranch Pkwy   \n",
       "4              10.0  Sat, 05 Jan 2013 00:00:00 GMT  12125 Alamo Ranch Pkwy   \n",
       "...             ...                            ...                     ...   \n",
       "912995         63.0  Wed, 27 Dec 2017 00:00:00 GMT    8503 NW Military Hwy   \n",
       "912996         59.0  Thu, 28 Dec 2017 00:00:00 GMT    8503 NW Military Hwy   \n",
       "912997         74.0  Fri, 29 Dec 2017 00:00:00 GMT    8503 NW Military Hwy   \n",
       "912998         62.0  Sat, 30 Dec 2017 00:00:00 GMT    8503 NW Military Hwy   \n",
       "912999         82.0  Sun, 31 Dec 2017 00:00:00 GMT    8503 NW Military Hwy   \n",
       "\n",
       "         store_city store_state  store_zipcode   item_upc12   item_upc14  \n",
       "0       San Antonio          TX          78253  35200264013  35200264013  \n",
       "1       San Antonio          TX          78253  35200264013  35200264013  \n",
       "2       San Antonio          TX          78253  35200264013  35200264013  \n",
       "3       San Antonio          TX          78253  35200264013  35200264013  \n",
       "4       San Antonio          TX          78253  35200264013  35200264013  \n",
       "...             ...         ...            ...          ...          ...  \n",
       "912995  San Antonio          TX          78231  47445919221  47445919221  \n",
       "912996  San Antonio          TX          78231  47445919221  47445919221  \n",
       "912997  San Antonio          TX          78231  47445919221  47445919221  \n",
       "912998  San Antonio          TX          78231  47445919221  47445919221  \n",
       "912999  San Antonio          TX          78231  47445919221  47445919221  \n",
       "\n",
       "[913000 rows x 14 columns]"
      ]
     },
     "execution_count": 131,
     "metadata": {},
     "output_type": "execute_result"
    }
   ],
   "source": [
    "combined_df"
   ]
  },
  {
   "cell_type": "code",
   "execution_count": null,
   "id": "033b6a19-1b3a-4508-9745-3da6cbe6e752",
   "metadata": {},
   "outputs": [],
   "source": [
    "from mitosheet import *; # Analysis Name:id-vyazfeqetm;\n",
    "    \n",
    "# Deleted column Unnamed: 0 from combined_df\n",
    "combined_df.drop(['Unnamed: 0'], axis=1, inplace=True)\n"
   ]
  },
  {
   "cell_type": "code",
   "execution_count": 128,
   "id": "511c5495-dc02-40f5-b9bf-0b63f80f4f63",
   "metadata": {},
   "outputs": [],
   "source": [
    "combined_df.drop(['Unnamed: 0'], axis=1, inplace=True)"
   ]
  },
  {
   "cell_type": "code",
   "execution_count": 119,
   "id": "71e5cd87-84a4-4d9c-aaea-79b9f4fc9472",
   "metadata": {},
   "outputs": [
    {
     "data": {
      "application/vnd.jupyter.widget-view+json": {
       "model_id": "47b4cdcc65734f4eab4105843d1c729c",
       "version_major": 2,
       "version_minor": 0
      },
      "text/plain": [
       "MitoWidget(analysis_data_json='{\"analysisName\": \"id-lqoyfzlmcs\", \"analysisToReplay\": null, \"code\": [], \"stepSu…"
      ]
     },
     "metadata": {},
     "output_type": "display_data"
    }
   ],
   "source": [
    "import mitosheet\n",
    "mitosheet.sheet(combined_df, analysis_to_replay=\"id-lqoyfzlmcs\")"
   ]
  },
  {
   "cell_type": "code",
   "execution_count": 117,
   "id": "9208e4c2-d948-4380-a190-7e8c41413b4c",
   "metadata": {},
   "outputs": [],
   "source": [
    "\n",
    "# Deleted column Unnamed: 0 from combined_df\n",
    "combined_df.drop(['Unnamed: 0'], axis=1, inplace=True)\n",
    "\n",
    "# Deleted column Unnamed: 0.1 from combined_df\n",
    "combined_df.drop(['Unnamed: 0.1'], axis=1, inplace=True)\n",
    "\n",
    "# Reordered item_brand in combined_df\n",
    "combined_df_columns = [col for col in combined_df.columns if col != 'item_brand']\n",
    "combined_df_columns.insert(1, 'item_brand')\n",
    "combined_df = combined_df[combined_df_columns]\n",
    "\n",
    "# Reordered item_name in combined_df\n",
    "combined_df_columns = [col for col in combined_df.columns if col != 'item_name']\n",
    "combined_df_columns.insert(2, 'item_name')\n",
    "combined_df = combined_df[combined_df_columns]\n",
    "\n",
    "# Reordered item_price in combined_df\n",
    "combined_df_columns = [col for col in combined_df.columns if col != 'item_price']\n",
    "combined_df_columns.insert(3, 'item_price')\n",
    "combined_df = combined_df[combined_df_columns]\n",
    "\n",
    "# Reordered sale_id in combined_df\n",
    "combined_df_columns = [col for col in combined_df.columns if col != 'sale_id']\n",
    "combined_df_columns.insert(0, 'sale_id')\n",
    "combined_df = combined_df[combined_df_columns]\n",
    "\n",
    "# Reordered store_id in combined_df\n",
    "combined_df_columns = [col for col in combined_df.columns if col != 'store_id']\n",
    "combined_df_columns.insert(0, 'store_id')\n",
    "combined_df = combined_df[combined_df_columns]\n",
    "\n",
    "# Reordered store_id in combined_df\n",
    "combined_df_columns = [col for col in combined_df.columns if col != 'store_id']\n",
    "combined_df_columns.insert(2, 'store_id')\n",
    "combined_df = combined_df[combined_df_columns]\n",
    "\n",
    "# Reordered item_id in combined_df\n",
    "combined_df_columns = [col for col in combined_df.columns if col != 'item_id']\n",
    "combined_df_columns.insert(3, 'item_id')\n",
    "combined_df = combined_df[combined_df_columns]\n",
    "\n",
    "# Reordered item_id in combined_df\n",
    "combined_df_columns = [col for col in combined_df.columns if col != 'item_id']\n",
    "combined_df_columns.insert(1, 'item_id')\n",
    "combined_df = combined_df[combined_df_columns]\n",
    "\n",
    "# Reordered store_id in combined_df\n",
    "combined_df_columns = [col for col in combined_df.columns if col != 'store_id']\n",
    "combined_df_columns.insert(0, 'store_id')\n",
    "combined_df = combined_df[combined_df_columns]\n",
    "\n",
    "# Reordered store_id in combined_df\n",
    "combined_df_columns = [col for col in combined_df.columns if col != 'store_id']\n",
    "combined_df_columns.insert(1, 'store_id')\n",
    "combined_df = combined_df[combined_df_columns]\n"
   ]
  },
  {
   "cell_type": "code",
   "execution_count": 129,
   "id": "45af23f8-baa4-4ea1-bad0-1d7d074db92e",
   "metadata": {},
   "outputs": [],
   "source": [
    "combined_df.to_csv('sales_stores_items.csv', index=False)"
   ]
  },
  {
   "cell_type": "code",
   "execution_count": 82,
   "id": "bad84dbd-35a7-4fa4-afc5-06e0448f9d9c",
   "metadata": {},
   "outputs": [
    {
     "data": {
      "text/plain": [
       "item_id          int64\n",
       "sale_amount    float64\n",
       "sale_date       object\n",
       "sale_id          int64\n",
       "store_id         int64\n",
       "dtype: object"
      ]
     },
     "execution_count": 82,
     "metadata": {},
     "output_type": "execute_result"
    }
   ],
   "source": [
    "sales_df.dtypes"
   ]
  },
  {
   "cell_type": "code",
   "execution_count": 83,
   "id": "28e3f73e-96de-4723-918d-de631d55ee90",
   "metadata": {},
   "outputs": [
    {
     "data": {
      "text/plain": [
       "store_address    object\n",
       "store_city       object\n",
       "store_id          int64\n",
       "store_state      object\n",
       "store_zipcode     int64\n",
       "dtype: object"
      ]
     },
     "execution_count": 83,
     "metadata": {},
     "output_type": "execute_result"
    }
   ],
   "source": [
    "stores_df.dtypes"
   ]
  },
  {
   "cell_type": "code",
   "execution_count": 87,
   "id": "9efdb537-9661-455f-8843-f7716204c84e",
   "metadata": {},
   "outputs": [
    {
     "data": {
      "text/plain": [
       "Index(['store_address', 'store_city', 'store_id', 'store_state',\n",
       "       'store_zipcode'],\n",
       "      dtype='object')"
      ]
     },
     "execution_count": 87,
     "metadata": {},
     "output_type": "execute_result"
    }
   ],
   "source": [
    "stores_df.columns"
   ]
  },
  {
   "cell_type": "code",
   "execution_count": 88,
   "id": "a92f205c-8e4f-4e14-8584-ef20ca1073aa",
   "metadata": {},
   "outputs": [
    {
     "data": {
      "text/plain": [
       "Index(['item_id', 'sale_amount', 'sale_date', 'sale_id', 'store_id'], dtype='object')"
      ]
     },
     "execution_count": 88,
     "metadata": {},
     "output_type": "execute_result"
    }
   ],
   "source": [
    "sales_df.columns"
   ]
  },
  {
   "cell_type": "code",
   "execution_count": null,
   "id": "b419911b-162e-49ad-b9d5-92679723d380",
   "metadata": {},
   "outputs": [],
   "source": []
  }
 ],
 "metadata": {
  "kernelspec": {
   "display_name": "Python 3 (ipykernel)",
   "language": "python",
   "name": "python3"
  },
  "language_info": {
   "codemirror_mode": {
    "name": "ipython",
    "version": 3
   },
   "file_extension": ".py",
   "mimetype": "text/x-python",
   "name": "python",
   "nbconvert_exporter": "python",
   "pygments_lexer": "ipython3",
   "version": "3.9.7"
  }
 },
 "nbformat": 4,
 "nbformat_minor": 5
}
